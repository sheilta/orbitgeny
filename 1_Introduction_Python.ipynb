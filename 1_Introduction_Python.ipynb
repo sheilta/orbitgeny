{
  "nbformat": 4,
  "nbformat_minor": 0,
  "metadata": {
    "colab": {
      "name": "1. Introduction Python.ipynb",
      "provenance": [],
      "authorship_tag": "ABX9TyMo0dhNTLTLRfdEdM2qtg/J",
      "include_colab_link": true
    },
    "kernelspec": {
      "name": "python3",
      "display_name": "Python 3"
    },
    "language_info": {
      "name": "python"
    }
  },
  "cells": [
    {
      "cell_type": "markdown",
      "metadata": {
        "id": "view-in-github",
        "colab_type": "text"
      },
      "source": [
        "<a href=\"https://colab.research.google.com/github/sheilta/orbitgeny/blob/main/1_Introduction_Python.ipynb\" target=\"_parent\"><img src=\"https://colab.research.google.com/assets/colab-badge.svg\" alt=\"Open In Colab\"/></a>"
      ]
    },
    {
      "cell_type": "markdown",
      "metadata": {
        "id": "7laGfBCUwjsh"
      },
      "source": [
        "# **Introduction Python**"
      ]
    },
    {
      "cell_type": "code",
      "metadata": {
        "colab": {
          "base_uri": "https://localhost:8080/"
        },
        "id": "wPSEvngjweq6",
        "outputId": "eab10759-b3f5-4d49-a581-e46ea32d1502"
      },
      "source": [
        "print(\"Hello World\")"
      ],
      "execution_count": 1,
      "outputs": [
        {
          "output_type": "stream",
          "name": "stdout",
          "text": [
            "Hello World\n"
          ]
        }
      ]
    },
    {
      "cell_type": "code",
      "metadata": {
        "colab": {
          "base_uri": "https://localhost:8080/"
        },
        "id": "nVd9palRxhbF",
        "outputId": "0a4e0a72-7e8c-4253-d866-840cb57e0c17"
      },
      "source": [
        "print(\"Hallo Dunia\")\n",
        "print(\"Riset Bahasa\")"
      ],
      "execution_count": 2,
      "outputs": [
        {
          "output_type": "stream",
          "name": "stdout",
          "text": [
            "Hallo Dunia\n",
            "Riset Bahasa\n"
          ]
        }
      ]
    },
    {
      "cell_type": "code",
      "metadata": {
        "colab": {
          "base_uri": "https://localhost:8080/"
        },
        "id": "qluR9vkuxkbS",
        "outputId": "7e045408-4fbc-4e9a-e353-aed7e7a98833"
      },
      "source": [
        "bilangan1 = 20\n",
        "bilangan2 = 10\n",
        "print(bilangan1 - bilangan2)"
      ],
      "execution_count": 3,
      "outputs": [
        {
          "output_type": "stream",
          "name": "stdout",
          "text": [
            "10\n"
          ]
        }
      ]
    },
    {
      "cell_type": "code",
      "metadata": {
        "colab": {
          "base_uri": "https://localhost:8080/"
        },
        "id": "pD2pQ8zBxnaj",
        "outputId": "4bab0ec9-7a09-4ac2-f0ca-4e04a04239aa"
      },
      "source": [
        "contoh_list = ['Dewi','Budi','Cici','Linda','Cici']\n",
        "print(contoh_list)\n",
        "contoh_set = {'Dewi','Budi','Cici','Linda','Cici'}\n",
        "print(contoh_set)\n",
        "contoh_frozen_set = ({'Dewi','Budi','Cici','Linda','Cici'})\n",
        "print(contoh_frozen_set)"
      ],
      "execution_count": 4,
      "outputs": [
        {
          "output_type": "stream",
          "name": "stdout",
          "text": [
            "['Dewi', 'Budi', 'Cici', 'Linda', 'Cici']\n",
            "{'Budi', 'Dewi', 'Linda', 'Cici'}\n",
            "{'Budi', 'Dewi', 'Linda', 'Cici'}\n"
          ]
        }
      ]
    },
    {
      "cell_type": "code",
      "metadata": {
        "colab": {
          "base_uri": "https://localhost:8080/"
        },
        "id": "rQYfUl5NxqQK",
        "outputId": "3093fc1b-3655-41d5-86cf-7cb4557150c6"
      },
      "source": [
        "person = {'nama':'Prissy','pekerjaan':'Ambassador PT.Cicil Solusi Mitra Teknologi'}\n",
        "print(person['nama'])\n",
        "print(person['pekerjaan'])"
      ],
      "execution_count": 5,
      "outputs": [
        {
          "output_type": "stream",
          "name": "stdout",
          "text": [
            "Prissy\n",
            "Ambassador PT.Cicil Solusi Mitra Teknologi\n"
          ]
        }
      ]
    },
    {
      "cell_type": "code",
      "metadata": {
        "colab": {
          "base_uri": "https://localhost:8080/"
        },
        "id": "vxTHV-eQxs2j",
        "outputId": "b864f325-4da5-425b-b739-e4e3552b17f4"
      },
      "source": [
        "contoh_list = [1, 'dua', 3, 4.0, 5]\n",
        "print(contoh_list[0])\n",
        "print(contoh_list[3])\n",
        "contoh_list = [1, 'dua', 3, 4.0, 5]\n",
        "contoh_list[3] = 'empat'\n",
        "print(contoh_list[3])"
      ],
      "execution_count": 6,
      "outputs": [
        {
          "output_type": "stream",
          "name": "stdout",
          "text": [
            "1\n",
            "4.0\n",
            "empat\n"
          ]
        }
      ]
    }
  ]
}