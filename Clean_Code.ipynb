{
  "nbformat": 4,
  "nbformat_minor": 0,
  "metadata": {
    "interpreter": {
      "hash": "b3ba2566441a7c06988d0923437866b63cedc61552a5af99d1f4fb67d367b25f"
    },
    "kernelspec": {
      "display_name": "Python 3",
      "language": "python",
      "name": "python3"
    },
    "language_info": {
      "codemirror_mode": {
        "name": "ipython",
        "version": 3
      },
      "file_extension": ".py",
      "mimetype": "text/x-python",
      "name": "python",
      "nbconvert_exporter": "python",
      "pygments_lexer": "ipython3",
      "version": "3.8.3"
    },
    "colab": {
      "name": "Clean-Code.ipynb",
      "provenance": [],
      "collapsed_sections": [],
      "include_colab_link": true
    }
  },
  "cells": [
    {
      "cell_type": "markdown",
      "metadata": {
        "id": "view-in-github",
        "colab_type": "text"
      },
      "source": [
        "<a href=\"https://colab.research.google.com/github/sheilta/orbitgeny/blob/main/Clean_Code.ipynb\" target=\"_parent\"><img src=\"https://colab.research.google.com/assets/colab-badge.svg\" alt=\"Open In Colab\"/></a>"
      ]
    },
    {
      "cell_type": "markdown",
      "metadata": {
        "id": "fC7a-HmIj4kX"
      },
      "source": [
        "# **Clean Code**"
      ]
    },
    {
      "cell_type": "markdown",
      "metadata": {
        "id": "QIKPKdJuj4kf"
      },
      "source": [
        "## Daftar Pembahasan Materi\n",
        "- Pedoman penulisan program python menggunakan PEP8\n",
        "- Input, proses (pengolahan kolom), output file ke dalam program (csv dan excel)\n",
        "- Python list functions | Fungsi - fungsi pada list python\n",
        "- Pembahasan dan contoh program Stack (FIFO) sederhana\n",
        "- Pembahasan dan contoh program Queue (LIFO) sederhana"
      ]
    },
    {
      "cell_type": "markdown",
      "metadata": {
        "id": "VWAAlTW_j4kg"
      },
      "source": [
        "## Input, Process, Output dataframe\n",
        "- Membuat Data Frame manual -> export ke csv dan xlsx (excel)\n",
        "- Latihan membuat Data Frame (Data 5 calon anggota koperasi sukanabung)"
      ]
    },
    {
      "cell_type": "code",
      "metadata": {
        "id": "UgB2RzV3j4kh"
      },
      "source": [
        "import pandas as pd"
      ],
      "execution_count": 1,
      "outputs": []
    },
    {
      "cell_type": "code",
      "metadata": {
        "id": "cJmJnnCgj4kj"
      },
      "source": [
        "df1 = pd.DataFrame([\n",
        "  [\"Andien\", \"P\", 21, \"Belum Menikah\"],\n",
        "  [\"Raka\", \"L\", 25, \"Belum Menikah\"],\n",
        "  [\"Bobby\", \"L\", 23, \"Sudah Menikah\"]\n",
        "])"
      ],
      "execution_count": 2,
      "outputs": []
    },
    {
      "cell_type": "code",
      "metadata": {
        "colab": {
          "base_uri": "https://localhost:8080/",
          "height": 141
        },
        "id": "3eQrOiVvvJQo",
        "outputId": "48b9ab29-3470-4357-f4f3-87a9b78e0478"
      },
      "source": [
        "df1.columns = [\"Nama\", \"Jenis Kelamin\", \"Usia\", \"Status\"]\n",
        "df1"
      ],
      "execution_count": 3,
      "outputs": [
        {
          "output_type": "execute_result",
          "data": {
            "text/html": [
              "<div>\n",
              "<style scoped>\n",
              "    .dataframe tbody tr th:only-of-type {\n",
              "        vertical-align: middle;\n",
              "    }\n",
              "\n",
              "    .dataframe tbody tr th {\n",
              "        vertical-align: top;\n",
              "    }\n",
              "\n",
              "    .dataframe thead th {\n",
              "        text-align: right;\n",
              "    }\n",
              "</style>\n",
              "<table border=\"1\" class=\"dataframe\">\n",
              "  <thead>\n",
              "    <tr style=\"text-align: right;\">\n",
              "      <th></th>\n",
              "      <th>Nama</th>\n",
              "      <th>Jenis Kelamin</th>\n",
              "      <th>Usia</th>\n",
              "      <th>Status</th>\n",
              "    </tr>\n",
              "  </thead>\n",
              "  <tbody>\n",
              "    <tr>\n",
              "      <th>0</th>\n",
              "      <td>Andien</td>\n",
              "      <td>P</td>\n",
              "      <td>21</td>\n",
              "      <td>Belum Menikah</td>\n",
              "    </tr>\n",
              "    <tr>\n",
              "      <th>1</th>\n",
              "      <td>Raka</td>\n",
              "      <td>L</td>\n",
              "      <td>25</td>\n",
              "      <td>Belum Menikah</td>\n",
              "    </tr>\n",
              "    <tr>\n",
              "      <th>2</th>\n",
              "      <td>Bobby</td>\n",
              "      <td>L</td>\n",
              "      <td>23</td>\n",
              "      <td>Sudah Menikah</td>\n",
              "    </tr>\n",
              "  </tbody>\n",
              "</table>\n",
              "</div>"
            ],
            "text/plain": [
              "     Nama Jenis Kelamin  Usia         Status\n",
              "0  Andien             P    21  Belum Menikah\n",
              "1    Raka             L    25  Belum Menikah\n",
              "2   Bobby             L    23  Sudah Menikah"
            ]
          },
          "metadata": {},
          "execution_count": 3
        }
      ]
    },
    {
      "cell_type": "code",
      "metadata": {
        "id": "ZbSGwYJHj4kn"
      },
      "source": [
        "df1.to_csv('anggota_koperasi_sukanabung.csv')\n",
        "df1.to_excel('anggota_koperasi_sukanabung.xlsx')"
      ],
      "execution_count": 4,
      "outputs": []
    },
    {
      "cell_type": "markdown",
      "metadata": {
        "id": "6_OwAS0Ij4ko"
      },
      "source": [
        "## Fungsi - Fungsi List pada Python\n",
        "- Quiz, studi kasus nyata"
      ]
    },
    {
      "cell_type": "markdown",
      "metadata": {
        "id": "MMU9bi85j4kp"
      },
      "source": [
        "- Bahas tentang fungsi yg ada di list (struktur data) dulu\n",
        "    - `append()`  # Menambahkan elemen di akhir list (hanya 1)\n",
        "    - `extend()`  # Menambahkan banyak elemen di akhir list\n",
        "    - `index()`   # Mencari index dari elemen tertentu yang ada di list\n",
        "    - `max(list)` # Mencari elemen terbesar dari list\n",
        "    - `min(list)` # Mencari elemen terkecil dari list\n",
        "    - `len(list)` # Menghitung jumlah elemen dalam list\n",
        "    - `clear()`   # Menghapus semua elemen dari list\n",
        "    - `insert()`  # Memasukkan elemen baru pada urutan tertentu\n",
        "    - `count()`   # Menghitung jumlah elemen dengan nilai tertentu\n",
        "    - `pop()`     # Menghapus elemen terakhir dari list\n",
        "    - `remove()`  # Menghapus elemen dengan nilai tertentu\n",
        "    - `reverse()` # Membalik urutan elemen dalam list\n",
        "    - `copy()`    # Menduplikat elemen dalam list ke dalam variabel baru\n",
        "    - `sort()`    # Mengurutkan (sorting)\n",
        "\n",
        "- TODO: Teori dan ilustrasi"
      ]
    },
    {
      "cell_type": "code",
      "metadata": {
        "id": "mCBAa00Yj4kq"
      },
      "source": [
        "tumpukan_warna = ['Biru', 'Merah', 'Hijau', 'Ungu', 'Hitam']"
      ],
      "execution_count": 5,
      "outputs": []
    },
    {
      "cell_type": "code",
      "metadata": {
        "id": "CA4LTCM9j4kq",
        "colab": {
          "base_uri": "https://localhost:8080/"
        },
        "outputId": "182acc3f-c190-4ec8-9c95-bb6ea04873de"
      },
      "source": [
        "# append, menambahkan nilai di akhir list (hanya 1 nilai saja)\n",
        "tumpukan_warna.append('Jingga')\n",
        "tumpukan_warna"
      ],
      "execution_count": 6,
      "outputs": [
        {
          "output_type": "execute_result",
          "data": {
            "text/plain": [
              "['Biru', 'Merah', 'Hijau', 'Ungu', 'Hitam', 'Jingga']"
            ]
          },
          "metadata": {},
          "execution_count": 6
        }
      ]
    },
    {
      "cell_type": "code",
      "metadata": {
        "id": "KuOZo1xvj4kr",
        "colab": {
          "base_uri": "https://localhost:8080/"
        },
        "outputId": "df0e3ef4-2d08-46b1-d28d-a2853750da0f"
      },
      "source": [
        "# extend, menambahkan banyak elemen di akhir list\n",
        "tumpukan_warna.extend(['Putih', 'Tosca'])\n",
        "tumpukan_warna"
      ],
      "execution_count": 7,
      "outputs": [
        {
          "output_type": "execute_result",
          "data": {
            "text/plain": [
              "['Biru', 'Merah', 'Hijau', 'Ungu', 'Hitam', 'Jingga', 'Putih', 'Tosca']"
            ]
          },
          "metadata": {},
          "execution_count": 7
        }
      ]
    },
    {
      "cell_type": "code",
      "metadata": {
        "id": "ou_wwx7Hj4ks",
        "colab": {
          "base_uri": "https://localhost:8080/"
        },
        "outputId": "04d9f0dc-46ee-4faa-dc98-7d60d9ea9681"
      },
      "source": [
        "# index, mencari index dari nilai tertentu yang ada di list\n",
        "tumpukan_warna.index('Hijau')"
      ],
      "execution_count": 8,
      "outputs": [
        {
          "output_type": "execute_result",
          "data": {
            "text/plain": [
              "2"
            ]
          },
          "metadata": {},
          "execution_count": 8
        }
      ]
    },
    {
      "cell_type": "code",
      "metadata": {
        "id": "E-ORjbcjj4ks",
        "colab": {
          "base_uri": "https://localhost:8080/",
          "height": 35
        },
        "outputId": "734f1859-22c1-4da9-b163-8965f6476d46"
      },
      "source": [
        "# min, mencari nilai terkecil dari list\n",
        "min(tumpukan_warna)"
      ],
      "execution_count": 9,
      "outputs": [
        {
          "output_type": "execute_result",
          "data": {
            "application/vnd.google.colaboratory.intrinsic+json": {
              "type": "string"
            },
            "text/plain": [
              "'Biru'"
            ]
          },
          "metadata": {},
          "execution_count": 9
        }
      ]
    },
    {
      "cell_type": "code",
      "metadata": {
        "id": "i5BB2zL4j4kt",
        "colab": {
          "base_uri": "https://localhost:8080/",
          "height": 35
        },
        "outputId": "bef28732-5f49-4bb1-e095-1efd8c902167"
      },
      "source": [
        "# max, mencari nilai terbesar dari list\n",
        "max(tumpukan_warna)"
      ],
      "execution_count": 10,
      "outputs": [
        {
          "output_type": "execute_result",
          "data": {
            "application/vnd.google.colaboratory.intrinsic+json": {
              "type": "string"
            },
            "text/plain": [
              "'Ungu'"
            ]
          },
          "metadata": {},
          "execution_count": 10
        }
      ]
    },
    {
      "cell_type": "code",
      "metadata": {
        "colab": {
          "base_uri": "https://localhost:8080/"
        },
        "id": "pmG6XlAEz7gz",
        "outputId": "40a78f63-e5bc-4d91-bbd9-3ee39c9875a9"
      },
      "source": [
        "#sort, mengurutkan\n",
        "tumpukan_warna.sort()\n",
        "print(tumpukan_warna)"
      ],
      "execution_count": 11,
      "outputs": [
        {
          "output_type": "stream",
          "name": "stdout",
          "text": [
            "['Biru', 'Hijau', 'Hitam', 'Jingga', 'Merah', 'Putih', 'Tosca', 'Ungu']\n"
          ]
        }
      ]
    },
    {
      "cell_type": "code",
      "metadata": {
        "id": "5CAsW7mnj4kt",
        "colab": {
          "base_uri": "https://localhost:8080/"
        },
        "outputId": "48cb603d-87f0-4182-f24b-5d977aa6356b"
      },
      "source": [
        "# clear, menghapus semua elemen dari list\n",
        "tumpukan_warna.clear()\n",
        "tumpukan_warna"
      ],
      "execution_count": 12,
      "outputs": [
        {
          "output_type": "execute_result",
          "data": {
            "text/plain": [
              "[]"
            ]
          },
          "metadata": {},
          "execution_count": 12
        }
      ]
    },
    {
      "cell_type": "code",
      "metadata": {
        "id": "_Ur2NSuRj4ku"
      },
      "source": [
        "tumpukan_warna = ['Biru', 'Merah', 'Hijau', 'Ungu', 'Hitam']"
      ],
      "execution_count": 13,
      "outputs": []
    },
    {
      "cell_type": "code",
      "metadata": {
        "id": "lHCXeJY0j4ku",
        "colab": {
          "base_uri": "https://localhost:8080/"
        },
        "outputId": "c8716b2b-47d7-4963-8e10-24ff075710c4"
      },
      "source": [
        "# len, menghitung jumlah elemen dalam list\n",
        "len(tumpukan_warna)"
      ],
      "execution_count": 14,
      "outputs": [
        {
          "output_type": "execute_result",
          "data": {
            "text/plain": [
              "5"
            ]
          },
          "metadata": {},
          "execution_count": 14
        }
      ]
    },
    {
      "cell_type": "code",
      "metadata": {
        "id": "KHsIpoXoj4ku",
        "colab": {
          "base_uri": "https://localhost:8080/"
        },
        "outputId": "27f0bef4-58c3-4749-e0f6-7b50fff0f537"
      },
      "source": [
        "# insert, memasukkan elemen baru pada urutan tertentu\n",
        "tumpukan_warna.insert(0, 'Orange')\n",
        "tumpukan_warna"
      ],
      "execution_count": 15,
      "outputs": [
        {
          "output_type": "execute_result",
          "data": {
            "text/plain": [
              "['Orange', 'Biru', 'Merah', 'Hijau', 'Ungu', 'Hitam']"
            ]
          },
          "metadata": {},
          "execution_count": 15
        }
      ]
    },
    {
      "cell_type": "code",
      "metadata": {
        "id": "s9EpdW4Hj4kv",
        "colab": {
          "base_uri": "https://localhost:8080/"
        },
        "outputId": "ef0454e4-088e-47b2-cf94-83b59a320131"
      },
      "source": [
        "# remove, menghapus elemen dengan nilai tertentu\n",
        "tumpukan_warna.remove('Orange')\n",
        "tumpukan_warna"
      ],
      "execution_count": 16,
      "outputs": [
        {
          "output_type": "execute_result",
          "data": {
            "text/plain": [
              "['Biru', 'Merah', 'Hijau', 'Ungu', 'Hitam']"
            ]
          },
          "metadata": {},
          "execution_count": 16
        }
      ]
    },
    {
      "cell_type": "code",
      "metadata": {
        "id": "aKNVtL0Xj4kw",
        "colab": {
          "base_uri": "https://localhost:8080/"
        },
        "outputId": "2e36f2cc-d26c-4de6-f261-190ac8cd27aa"
      },
      "source": [
        "# reverse, membalik urutan elemen dalam list\n",
        "tumpukan_warna.reverse()\n",
        "tumpukan_warna"
      ],
      "execution_count": 17,
      "outputs": [
        {
          "output_type": "execute_result",
          "data": {
            "text/plain": [
              "['Hitam', 'Ungu', 'Hijau', 'Merah', 'Biru']"
            ]
          },
          "metadata": {},
          "execution_count": 17
        }
      ]
    },
    {
      "cell_type": "code",
      "metadata": {
        "id": "Q9PQvEvzj4kx",
        "colab": {
          "base_uri": "https://localhost:8080/"
        },
        "outputId": "35046642-ba3c-4660-b385-ced4b16aca2e"
      },
      "source": [
        "# pop, menghapus elemen terakhir dari list\n",
        "tumpukan_warna.pop()\n",
        "tumpukan_warna"
      ],
      "execution_count": 18,
      "outputs": [
        {
          "output_type": "execute_result",
          "data": {
            "text/plain": [
              "['Hitam', 'Ungu', 'Hijau', 'Merah']"
            ]
          },
          "metadata": {},
          "execution_count": 18
        }
      ]
    },
    {
      "cell_type": "code",
      "metadata": {
        "id": "JsPQ94yGj4ky",
        "colab": {
          "base_uri": "https://localhost:8080/"
        },
        "outputId": "f2be6b55-6255-450a-afef-7989c4fb991c"
      },
      "source": [
        "# count, menghitung jumlah elemen dengan nilai tertentu\n",
        "tumpukan_warna.count('Hitam') # Coba ubah dengan nilai yang lain"
      ],
      "execution_count": 19,
      "outputs": [
        {
          "output_type": "execute_result",
          "data": {
            "text/plain": [
              "1"
            ]
          },
          "metadata": {},
          "execution_count": 19
        }
      ]
    },
    {
      "cell_type": "code",
      "metadata": {
        "id": "k6p-NBKoj4kz",
        "colab": {
          "base_uri": "https://localhost:8080/"
        },
        "outputId": "9e5217be-6be1-4858-c064-59794dfbb2ea"
      },
      "source": [
        "# copy, menduplikat elemen dalam list ke dalam variabel baru\n",
        "tumpukan_warna2 = tumpukan_warna.copy()\n",
        "tumpukan_warna2"
      ],
      "execution_count": 20,
      "outputs": [
        {
          "output_type": "execute_result",
          "data": {
            "text/plain": [
              "['Hitam', 'Ungu', 'Hijau', 'Merah']"
            ]
          },
          "metadata": {},
          "execution_count": 20
        }
      ]
    },
    {
      "cell_type": "code",
      "metadata": {
        "id": "IUYtsmX2j4kz",
        "colab": {
          "base_uri": "https://localhost:8080/"
        },
        "outputId": "b7e73f45-bbee-4831-b027-bc0072b4513b"
      },
      "source": [
        "# Perbedaan fungsi copy dan re-assignment \n",
        "a = [1,2,3]\n",
        "\n",
        "# Isi b sama dengan a, tapi sebenarnya b hanya melakukan copy identitas objek a\n",
        "b = a\n",
        "c = a.copy()\n",
        "# Apabila a[0] kita ubah, maka b[0] pun berubah\n",
        "a[0] = 100\n",
        "\n",
        "# Fungsi id() dapat digunakan untuk mengetahui identitas dari suatu objek\n",
        "print(\"ID a:\", id(b))\n",
        "print(\"ID b:\", id(a))\n",
        "print(\"a:\", a)\n",
        "print(\"b:\", b)\n",
        "\n",
        "print(\"ID c:\", id(c))\n",
        "print(\"c:\", c)"
      ],
      "execution_count": 21,
      "outputs": [
        {
          "output_type": "stream",
          "name": "stdout",
          "text": [
            "ID a: 139674362541712\n",
            "ID b: 139674362541712\n",
            "a: [100, 2, 3]\n",
            "b: [100, 2, 3]\n",
            "ID c: 139674362438272\n",
            "c: [1, 2, 3]\n"
          ]
        }
      ]
    },
    {
      "cell_type": "markdown",
      "metadata": {
        "id": "j_ibCI3qj4k0"
      },
      "source": [
        "## Stack (Tumpukan)"
      ]
    },
    {
      "cell_type": "code",
      "metadata": {
        "id": "V1UTz9blj4k0"
      },
      "source": [
        "angka = [1,3,5,3,3,5]"
      ],
      "execution_count": 22,
      "outputs": []
    },
    {
      "cell_type": "code",
      "metadata": {
        "id": "C3Ny4Gdnj4k0",
        "colab": {
          "base_uri": "https://localhost:8080/"
        },
        "outputId": "81860584-e574-4c1a-c403-1023dcc831ae"
      },
      "source": [
        "# Stack -> First In Last Out\n",
        "lemari = [\"Sarung\", \"Celana Dasar\", \n",
        "        \"Kemeja Putih\", \"Selimut\"]\n",
        "lemari.append(\"Jaket Hoodie\")\n",
        "print(lemari)"
      ],
      "execution_count": 23,
      "outputs": [
        {
          "output_type": "stream",
          "name": "stdout",
          "text": [
            "['Sarung', 'Celana Dasar', 'Kemeja Putih', 'Selimut', 'Jaket Hoodie']\n"
          ]
        }
      ]
    },
    {
      "cell_type": "code",
      "metadata": {
        "id": "u9Knuyymj4k1",
        "colab": {
          "base_uri": "https://localhost:8080/"
        },
        "outputId": "7a8bee2b-d66c-4eea-9320-d4d6cc10fce8"
      },
      "source": [
        "# Stack -> First In Last Out\n",
        "lemari = [\"Sarung\", \"Celana Dasar\"\n",
        "          , \"Kemeja Putih\", \"Selimut\"\n",
        "          , \"Jaket Hoodie\"\n",
        "         ]\n",
        "lemari.pop()\n",
        "print(lemari)"
      ],
      "execution_count": 24,
      "outputs": [
        {
          "output_type": "stream",
          "name": "stdout",
          "text": [
            "['Sarung', 'Celana Dasar', 'Kemeja Putih', 'Selimut']\n"
          ]
        }
      ]
    },
    {
      "cell_type": "markdown",
      "metadata": {
        "id": "Ez0HhI01j4k1"
      },
      "source": [
        "## Queue (read: qiu)\n",
        "- TODO: Teori dan ilustrasi"
      ]
    },
    {
      "cell_type": "code",
      "metadata": {
        "id": "70DOHb6Rj4k2",
        "colab": {
          "base_uri": "https://localhost:8080/"
        },
        "outputId": "cc58ffb1-637c-4296-866f-26c32c783d18"
      },
      "source": [
        "# Queue -> First in First Out\n",
        "antrian_vaksin = [\"Andy\", \"Bobby\", \n",
        "                  \"Caca\", \"Doni\",\n",
        "                  \"Erna\"\n",
        "                 ]\n",
        "antrian_vaksin.append(\"Fani\")\n",
        "print(antrian_vaksin)"
      ],
      "execution_count": 25,
      "outputs": [
        {
          "output_type": "stream",
          "name": "stdout",
          "text": [
            "['Andy', 'Bobby', 'Caca', 'Doni', 'Erna', 'Fani']\n"
          ]
        }
      ]
    },
    {
      "cell_type": "code",
      "metadata": {
        "id": "IuVj-512j4k2",
        "colab": {
          "base_uri": "https://localhost:8080/"
        },
        "outputId": "5ccc7bb4-3eff-4543-a951-a032723dacc1"
      },
      "source": [
        "antrian_vaksin = [\"Andy\", \"Bobby\", \n",
        "                  \"Caca\", \"Doni\",\n",
        "                  \"Erna\", \"Fani\"\n",
        "                 ]\n",
        "antrian_vaksin.pop(0)\n",
        "print(antrian_vaksin)"
      ],
      "execution_count": 26,
      "outputs": [
        {
          "output_type": "stream",
          "name": "stdout",
          "text": [
            "['Bobby', 'Caca', 'Doni', 'Erna', 'Fani']\n"
          ]
        }
      ]
    },
    {
      "cell_type": "markdown",
      "metadata": {
        "id": "8Wk1mAaij4k2"
      },
      "source": [
        "# Activity\n",
        "## 1. Code Refactoring\n",
        "### 1.1 Ubah gaya penulisan kode program berikut sesuai dengan standar PEP8"
      ]
    },
    {
      "cell_type": "code",
      "metadata": {
        "colab": {
          "base_uri": "https://localhost:8080/"
        },
        "id": "cWggYXtLuSwS",
        "outputId": "d1f1e4de-c19f-48c6-bb4a-ac1cbbcb6374"
      },
      "source": [
        "#program untuk menghitung luas dan keliling lingkaran\n",
        "Pi = 3.14\n",
        "\n",
        "def HitungLuasLingkaran(jari_jari):\n",
        "    l = Pi * jari_jari**2\n",
        "    return l\n",
        "\n",
        "def HitungKelilingLingkaran(jari_jari):\n",
        "    kllng = 2 * Pi * jari_jari\n",
        "    return kllng\n",
        "\n",
        "def tampilkan_menu():\n",
        "    print('')\n",
        "    print(\"----------------------------------------------------\")\n",
        "    print( 'Program untuk menghitung luas dan keliling lingkaran')\n",
        "    print( 'Mau ngitung apa nih bre?')\n",
        "    print( '1. Luas Lingkaran')\n",
        "    print( '2. Keliling Lingkaran')\n",
        "    print( '3. Stop Program')\n",
        "    print('')\n",
        "\n",
        "pil = 'bukan 3'\n",
        "while pil != 3:\n",
        "    tampilkan_menu()\n",
        "    pil = input ('Pilihan:')\n",
        "\n",
        "    if pil=='1':\n",
        "        jari_jari = input('Jari Jari:')\n",
        "        jari_jari = float(jari_jari)\n",
        "        hasil = HitungLuasLingkaran(jari_jari)\n",
        "        print(\"Luas Lingkaran:\", hasil )\n",
        "\n",
        "    elif pil== '2':\n",
        "        jari_jari=input ('Jari Jari:')\n",
        "        jari_jari=float (jari_jari)\n",
        "        hsl=HitungKelilingLingkaran(jari_jari)\n",
        "        print(\"Keliling Lingkaran:\", hsl )\n",
        "\n",
        "    elif pil=='3':\n",
        "        print( \"TERIMA KASIH SUDAH MENGGUNAKAN PROGRAM KAMI\")\n",
        "        break\n",
        "\n",
        "    else:\n",
        "        print('Pilihan tidak tersedia')\n",
        "        tampilkan_menu ()"
      ],
      "execution_count": 27,
      "outputs": [
        {
          "output_type": "stream",
          "name": "stdout",
          "text": [
            "\n",
            "----------------------------------------------------\n",
            "Program untuk menghitung luas dan keliling lingkaran\n",
            "Mau ngitung apa nih bre?\n",
            "1. Luas Lingkaran\n",
            "2. Keliling Lingkaran\n",
            "3. Stop Program\n",
            "\n",
            "Pilihan:1\n",
            "Jari Jari:7\n",
            "Luas Lingkaran: 153.86\n",
            "\n",
            "----------------------------------------------------\n",
            "Program untuk menghitung luas dan keliling lingkaran\n",
            "Mau ngitung apa nih bre?\n",
            "1. Luas Lingkaran\n",
            "2. Keliling Lingkaran\n",
            "3. Stop Program\n",
            "\n",
            "Pilihan:3\n",
            "TERIMA KASIH SUDAH MENGGUNAKAN PROGRAM KAMI\n"
          ]
        }
      ]
    },
    {
      "cell_type": "markdown",
      "metadata": {
        "id": "EI3tFPZD3ejW"
      },
      "source": [
        "### 1.2 Ubah gaya penulisan kode program berikut sesuai dengan standar PEP8"
      ]
    },
    {
      "cell_type": "code",
      "metadata": {
        "id": "vqqf6y-oySiq",
        "colab": {
          "base_uri": "https://localhost:8080/"
        },
        "outputId": "99a4ee98-a3af-4f86-949b-a1601ba9c5fa"
      },
      "source": [
        "# Main Layangan\n",
        "# Requirement:\n",
        "# - Gak Hujan\n",
        "# - Kecepatan Angin 5 - 30 km/s\n",
        "\n",
        "#Clues:\n",
        "# - Naming variable dan function, whitespace, komentar\n",
        "# - Terdapat kode duplikat, coba perbaiki\n",
        "\n",
        "def main_layangan():\n",
        "  hujan = input (\"lagi ujan ga? (y/n)\")\n",
        "  if hujan =='y' or hujan== 'Y':\n",
        "    hujan = True\n",
        "  else:\n",
        "    hujan =False\n",
        "\n",
        "  kecepatan__angin = int( input ('masukkan kecepatan angin'))\n",
        "\n",
        "  if hujan == True:\n",
        "    print('Gak bisa main layangan')\n",
        "    return False\n",
        "  else:\n",
        "    if kecepatan__angin >=5 and kecepatan__angin<= 30:\n",
        "      print( 'Asiik, gass main layangan')\n",
        "      return True\n",
        "    else:\n",
        "      print('Skip, mending main ep ep' )\n",
        "      return False\n",
        "\n",
        "capek = main_layangan()\n",
        "\n",
        "if capek ==True:\n",
        "  print(\"Istirahat\" )\n",
        "else:\n",
        "  print (\"Gass main ep ep\")"
      ],
      "execution_count": 28,
      "outputs": [
        {
          "output_type": "stream",
          "name": "stdout",
          "text": [
            "lagi ujan ga? (y/n)y\n",
            "masukkan kecepatan angin6\n",
            "Gak bisa main layangan\n",
            "Gass main ep ep\n"
          ]
        }
      ]
    },
    {
      "cell_type": "markdown",
      "metadata": {
        "id": "T_62CS4pvl3O"
      },
      "source": [
        "## 2. Memilih delegasi Tim Sudirman Cup dari Indonesia\n",
        "\n",
        "Berikut adalah data nama pemain bulu tangkis Indonesia beserta medali yang sudah diraih selama 2020 - 2021: \n"
      ]
    },
    {
      "cell_type": "code",
      "metadata": {
        "id": "S-IH1y1Uj4k3"
      },
      "source": [
        "pemain_dan_medali = [[7, \"Ginting\"], [5, \"Jonathan C.\"], [9,\" Hendra\"], [9,\" Ahsan\"], [8, \"Markus\"], [8, \"Kevin\"], [4, \"Gregoria\"], \n",
        "                     [6, \"Praven\"], [6, \"Melati\"], [7, \"Greysia\"], [7, \"Apriani\"], [5, \"Putri\"], [5, \"Rian\"], [5, \"Fajar\"]]                    "
      ],
      "execution_count": 29,
      "outputs": []
    },
    {
      "cell_type": "markdown",
      "metadata": {
        "id": "xmKFzuRgxB_S"
      },
      "source": [
        "> Buatlah program seleksi pemain bulu tangkis untuk Tim Sudirman dengan menerapkan konsep `Clean Code`"
      ]
    },
    {
      "cell_type": "code",
      "metadata": {
        "id": "dXKm2My10I5i",
        "colab": {
          "base_uri": "https://localhost:8080/"
        },
        "outputId": "1cdcbc3e-5635-44dc-f82c-73bcc4968d1c"
      },
      "source": [
        "# Buat list baru dengan mengurutkan list diatas berdasarkan medali yang diraih dari yang paling banyak\n",
        "print(sorted(pemain_dan_medali,key=lambda x: x[0],reverse=True))"
      ],
      "execution_count": 30,
      "outputs": [
        {
          "output_type": "stream",
          "name": "stdout",
          "text": [
            "[[9, ' Hendra'], [9, ' Ahsan'], [8, 'Markus'], [8, 'Kevin'], [7, 'Ginting'], [7, 'Greysia'], [7, 'Apriani'], [6, 'Praven'], [6, 'Melati'], [5, 'Jonathan C.'], [5, 'Putri'], [5, 'Rian'], [5, 'Fajar'], [4, 'Gregoria']]\n"
          ]
        }
      ]
    },
    {
      "cell_type": "code",
      "metadata": {
        "colab": {
          "base_uri": "https://localhost:8080/"
        },
        "id": "lBlTCvgRCPgd",
        "outputId": "03279f88-b0d8-4082-ccd1-66322b68cdb4"
      },
      "source": [
        "# Dengan looping, buatlah 2 list terpisah dari pemain dan juga medalinya, namun urutannya harus tetap sama dengan yang diatas\n",
        "list_2 = sorted(pemain_dan_medali,key=lambda x: x[0],reverse=True)\n",
        "\n",
        "list_1 = []\n",
        "list_3 = []\n",
        "\n",
        "for i in range(len(list_2)):\n",
        "  for j in range(1):\n",
        "    list_1.append(list_2[i][1])\n",
        "\n",
        "for i in range(len(list_2)):\n",
        "  for j in range(1):\n",
        "    list_3.append(list_2[i][0])\n",
        "\n",
        "print(list_1)\n",
        "print(list_3)"
      ],
      "execution_count": 31,
      "outputs": [
        {
          "output_type": "stream",
          "name": "stdout",
          "text": [
            "[' Hendra', ' Ahsan', 'Markus', 'Kevin', 'Ginting', 'Greysia', 'Apriani', 'Praven', 'Melati', 'Jonathan C.', 'Putri', 'Rian', 'Fajar', 'Gregoria']\n",
            "[9, 9, 8, 8, 7, 7, 7, 6, 6, 5, 5, 5, 5, 4]\n"
          ]
        }
      ]
    },
    {
      "cell_type": "code",
      "metadata": {
        "colab": {
          "base_uri": "https://localhost:8080/"
        },
        "id": "tMUP_1QM_DcR",
        "outputId": "bc79e225-e8d4-4bef-88b5-5b3f90e2bad0"
      },
      "source": [
        "#Tambahan (urutan list dimulai dari medali yang paling sedikit)\n",
        "print(sorted(pemain_dan_medali))\n",
        "sorted(pemain_dan_medali)"
      ],
      "execution_count": 32,
      "outputs": [
        {
          "output_type": "stream",
          "name": "stdout",
          "text": [
            "[[4, 'Gregoria'], [5, 'Fajar'], [5, 'Jonathan C.'], [5, 'Putri'], [5, 'Rian'], [6, 'Melati'], [6, 'Praven'], [7, 'Apriani'], [7, 'Ginting'], [7, 'Greysia'], [8, 'Kevin'], [8, 'Markus'], [9, ' Ahsan'], [9, ' Hendra']]\n"
          ]
        },
        {
          "output_type": "execute_result",
          "data": {
            "text/plain": [
              "[[4, 'Gregoria'],\n",
              " [5, 'Fajar'],\n",
              " [5, 'Jonathan C.'],\n",
              " [5, 'Putri'],\n",
              " [5, 'Rian'],\n",
              " [6, 'Melati'],\n",
              " [6, 'Praven'],\n",
              " [7, 'Apriani'],\n",
              " [7, 'Ginting'],\n",
              " [7, 'Greysia'],\n",
              " [8, 'Kevin'],\n",
              " [8, 'Markus'],\n",
              " [9, ' Ahsan'],\n",
              " [9, ' Hendra']]"
            ]
          },
          "metadata": {},
          "execution_count": 32
        }
      ]
    },
    {
      "cell_type": "markdown",
      "metadata": {
        "id": "dix7KA7P04RL"
      },
      "source": [
        "Misalkan Rio dan Dewi adalah pemain baru dengan perolehan medali : [2, \"Rio\"], [5, \"Dewi\"]. Jika maksimal 1 tim hanya 14 pemain, buatlah fungsi baru yang dapat memeriksa apakah Rio dan Dewi bisa menjadi pemain baru jika dibandingkan perolehan medalinya dengan squad tim saat ini. Output:\n",
        "\n",
        "\"Nama\" layak/tidak layak bergabung\n",
        "Tim Sudirman cup indonesia = \"list pemain yg layak\""
      ]
    }
  ]
}