{
  "nbformat": 4,
  "nbformat_minor": 0,
  "metadata": {
    "colab": {
      "name": "KNN-Image-Classification.ipynb",
      "provenance": [],
      "collapsed_sections": [],
      "include_colab_link": true
    },
    "kernelspec": {
      "name": "python3",
      "display_name": "Python 3"
    }
  },
  "cells": [
    {
      "cell_type": "markdown",
      "metadata": {
        "id": "view-in-github",
        "colab_type": "text"
      },
      "source": [
        "<a href=\"https://colab.research.google.com/github/sheilta/orbitgeny/blob/main/KNN_Image_Classification.ipynb\" target=\"_parent\"><img src=\"https://colab.research.google.com/assets/colab-badge.svg\" alt=\"Open In Colab\"/></a>"
      ]
    },
    {
      "cell_type": "markdown",
      "metadata": {
        "id": "01_qRquKFLv9"
      },
      "source": [
        "REFERENSI\n",
        "\n",
        "- [Open CV Face Recognition Berbasis Algoritma Haar Cascade in medium.com](https://medium.com/purwadhikaconnect/opencv-face-recognition-berbasis-algoritma-haar-cascade-1a5e23d9e8cb)\n",
        "- [Jurnal ttg Implementasi Face Mask Detection Berbasis Machine Learning](http://journal.stmikjayakarta.ac.id/index.php/jisamar/article/view/399)"
      ]
    },
    {
      "cell_type": "code",
      "metadata": {
        "id": "8vM89u9B8uD7"
      },
      "source": [
        "#import library yang digunakan\n",
        "import pickle, gzip\n",
        "import numpy as np\n",
        "import urllib.request"
      ],
      "execution_count": 7,
      "outputs": []
    },
    {
      "cell_type": "code",
      "metadata": {
        "id": "0yTy6p0iR9jX"
      },
      "source": [
        "#Download dataset dari dropbox\n",
        "url = \"https://www.dropbox.com/s/d3hz2dli4z6imfl/mnist_1000.pkl.gz?dl=1\"\n",
        "u = urllib.request.urlopen(url)\n",
        "data = u.read()\n",
        "u.close()\n",
        " \n",
        "with open('mnist_1000.pkl.gz', \"wb\") as f :\n",
        "    f.write(data)"
      ],
      "execution_count": 8,
      "outputs": []
    },
    {
      "cell_type": "code",
      "metadata": {
        "id": "Jm7p-Q-583hE",
        "colab": {
          "base_uri": "https://localhost:8080/"
        },
        "outputId": "0df48909-2a4b-4486-a437-25f8664bbb37"
      },
      "source": [
        "## load dataset\n",
        "\n",
        "f = gzip.open('/content/mnist_1000.pkl.gz', 'rb')\n",
        "trainData, trainLabels, valData, valLabels, testData, testLabels = pickle.load(\n",
        "    f, encoding='latin1')\n",
        "f.close()\n",
        " \n",
        "print(\"training data points: {}\".format(len(trainLabels)))\n",
        "print(\"validation data points: {}\".format(len(valLabels)))\n",
        "print(\"testing data points: {}\".format(len(testLabels)))"
      ],
      "execution_count": 9,
      "outputs": [
        {
          "output_type": "stream",
          "name": "stdout",
          "text": [
            "training data points: 1000\n",
            "validation data points: 200\n",
            "testing data points: 200\n"
          ]
        }
      ]
    },
    {
      "cell_type": "code",
      "metadata": {
        "colab": {
          "base_uri": "https://localhost:8080/"
        },
        "id": "BaMPcVPmSEfJ",
        "outputId": "5d290bf5-b7c3-4293-d84a-55d8628d4dc5"
      },
      "source": [
        "#Lihat label data\n",
        "\n",
        "print('label datanya : ', np.unique(trainLabels))\n",
        "print('ukuran matriks tiap datanya : ', trainData[0].shape)"
      ],
      "execution_count": 10,
      "outputs": [
        {
          "output_type": "stream",
          "name": "stdout",
          "text": [
            "label datanya :  [0 1 2 3 4 5 6 7 8 9]\n",
            "ukuran matriks tiap datanya :  (784,)\n"
          ]
        }
      ]
    },
    {
      "cell_type": "code",
      "metadata": {
        "colab": {
          "base_uri": "https://localhost:8080/",
          "height": 1000
        },
        "id": "6v-A6BehUdD-",
        "outputId": "b7a99512-5212-4da8-af3b-70086818cf8c"
      },
      "source": [
        "#Visualisasikan 10 data training pertama:\n",
        "import matplotlib.pyplot as plt\n",
        "\n",
        "for i in range(10):\n",
        "  image = trainData[i].reshape((28,28))\n",
        "  print('label = ', trainLabels[i])\n",
        "  plt.imshow(image, cmap=\"Greys\")\n",
        "  plt.show()"
      ],
      "execution_count": 11,
      "outputs": [
        {
          "output_type": "stream",
          "name": "stdout",
          "text": [
            "label =  5\n"
          ]
        },
        {
          "output_type": "display_data",
          "data": {
            "image/png": "[encoded data removed]",
            "text/plain": [
              "<Figure size 432x288 with 1 Axes>"
            ]
          },
          "metadata": {
            "needs_background": "light"
          }
        },
        {
          "output_type": "stream",
          "name": "stdout",
          "text": [
            "label =  0\n"
          ]
        },
        {
          "output_type": "display_data",
          "data": {
            "image/png": "[encoded data removed]",
            "text/plain": [
              "<Figure size 432x288 with 1 Axes>"
            ]
          },
          "metadata": {
            "needs_background": "light"
          }
        },
        {
          "output_type": "stream",
          "name": "stdout",
          "text": [
            "label =  4\n"
          ]
        },
        {
          "output_type": "display_data",
          "data": {
            "image/png": "[encoded data removed]",
            "text/plain": [
              "<Figure size 432x288 with 1 Axes>"
            ]
          },
          "metadata": {
            "needs_background": "light"
          }
        },
        {
          "output_type": "stream",
          "name": "stdout",
          "text": [
            "label =  1\n"
          ]
        },
        {
          "output_type": "display_data",
          "data": {
            "image/png": "[encoded data removed]",
            "text/plain": [
              "<Figure size 432x288 with 1 Axes>"
            ]
          },
          "metadata": {
            "needs_background": "light"
          }
        },
        {
          "output_type": "stream",
          "name": "stdout",
          "text": [
            "label =  9\n"
          ]
        },
        {
          "output_type": "display_data",
          "data": {
            "image/png": "[encoded data removed]",
            "text/plain": [
              "<Figure size 432x288 with 1 Axes>"
            ]
          },
          "metadata": {
            "needs_background": "light"
          }
        },
        {
          "output_type": "stream",
          "name": "stdout",
          "text": [
            "label =  2\n"
          ]
        },
        {
          "output_type": "display_data",
          "data": {
            "image/png": "[encoded data removed]",
            "text/plain": [
              "<Figure size 432x288 with 1 Axes>"
            ]
          },
          "metadata": {
            "needs_background": "light"
          }
        },
        {
          "output_type": "stream",
          "name": "stdout",
          "text": [
            "label =  1\n"
          ]
        },
        {
          "output_type": "display_data",
          "data": {
            "image/png": "[encoded data removed]",
            "text/plain": [
              "<Figure size 432x288 with 1 Axes>"
            ]
          },
          "metadata": {
            "needs_background": "light"
          }
        },
        {
          "output_type": "stream",
          "name": "stdout",
          "text": [
            "label =  3\n"
          ]
        },
        {
          "output_type": "display_data",
          "data": {
            "image/png": "[encoded data removed]",
            "text/plain": [
              "<Figure size 432x288 with 1 Axes>"
            ]
          },
          "metadata": {
            "needs_background": "light"
          }
        },
        {
          "output_type": "stream",
          "name": "stdout",
          "text": [
            "label =  1\n"
          ]
        },
        {
          "output_type": "display_data",
          "data": {
            "image/png": "[encoded data removed]",
            "text/plain": [
              "<Figure size 432x288 with 1 Axes>"
            ]
          },
          "metadata": {
            "needs_background": "light"
          }
        },
        {
          "output_type": "stream",
          "name": "stdout",
          "text": [
            "label =  4\n"
          ]
        },
        {
          "output_type": "display_data",
          "data": {
            "image/png": "[encoded data removed]",
            "text/plain": [
              "<Figure size 432x288 with 1 Axes>"
            ]
          },
          "metadata": {
            "needs_background": "light"
          }
        }
      ]
    },
    {
      "cell_type": "markdown",
      "metadata": {
        "id": "uEgmjvLrUiDK"
      },
      "source": [
        "Ups... kok code diatas gak bisa/error? karena ukuran reshapenya disitu 32x32, sementara data matriks aslinya disimpan dalam ukuran 784x1 (lihat output kodingan diatasnya). 32x32 tidak sama dengan 784x1, sehingga dia tidak mau direshape ke 32x32. Harus yang sama hasilnya, misalnya 28x28 (karena 28x28 = 784), seperti dibawah ini :"
      ]
    },
    {
      "cell_type": "code",
      "metadata": {
        "colab": {
          "base_uri": "https://localhost:8080/",
          "height": 1000
        },
        "id": "Hk3KBmuESMwz",
        "outputId": "3f844d1e-b32f-44ad-fef7-d6d69fe32376"
      },
      "source": [
        "#Visualisasikan 10 data training pertama:\n",
        "import matplotlib.pyplot as plt\n",
        "\n",
        "for i in range(10):\n",
        "  image = trainData[i].reshape((28,28))\n",
        "  print('label = ', trainLabels[i])\n",
        "  plt.imshow(image, cmap=\"Greys\")\n",
        "  plt.show()"
      ],
      "execution_count": 12,
      "outputs": [
        {
          "output_type": "stream",
          "name": "stdout",
          "text": [
            "label =  5\n"
          ]
        },
        {
          "output_type": "display_data",
          "data": {
            "image/png": "[encoded data removed]",
            "text/plain": [
              "<Figure size 432x288 with 1 Axes>"
            ]
          },
          "metadata": {
            "needs_background": "light"
          }
        },
        {
          "output_type": "stream",
          "name": "stdout",
          "text": [
            "label =  0\n"
          ]
        },
        {
          "output_type": "display_data",
          "data": {
            "image/png": "[encoded data removed]",
            "text/plain": [
              "<Figure size 432x288 with 1 Axes>"
            ]
          },
          "metadata": {
            "needs_background": "light"
          }
        },
        {
          "output_type": "stream",
          "name": "stdout",
          "text": [
            "label =  4\n"
          ]
        },
        {
          "output_type": "display_data",
          "data": {
            "image/png": "[encoded data removed]",
            "text/plain": [
              "<Figure size 432x288 with 1 Axes>"
            ]
          },
          "metadata": {
            "needs_background": "light"
          }
        },
        {
          "output_type": "stream",
          "name": "stdout",
          "text": [
            "label =  1\n"
          ]
        },
        {
          "output_type": "display_data",
          "data": {
            "image/png": "[encoded data removed]",
            "text/plain": [
              "<Figure size 432x288 with 1 Axes>"
            ]
          },
          "metadata": {
            "needs_background": "light"
          }
        },
        {
          "output_type": "stream",
          "name": "stdout",
          "text": [
            "label =  9\n"
          ]
        },
        {
          "output_type": "display_data",
          "data": {
            "image/png": "[encoded data removed]",
            "text/plain": [
              "<Figure size 432x288 with 1 Axes>"
            ]
          },
          "metadata": {
            "needs_background": "light"
          }
        },
        {
          "output_type": "stream",
          "name": "stdout",
          "text": [
            "label =  2\n"
          ]
        },
        {
          "output_type": "display_data",
          "data": {
            "image/png": "[encoded data removed]",
            "text/plain": [
              "<Figure size 432x288 with 1 Axes>"
            ]
          },
          "metadata": {
            "needs_background": "light"
          }
        },
        {
          "output_type": "stream",
          "name": "stdout",
          "text": [
            "label =  1\n"
          ]
        },
        {
          "output_type": "display_data",
          "data": {
            "image/png": "[encoded data removed]",
            "text/plain": [
              "<Figure size 432x288 with 1 Axes>"
            ]
          },
          "metadata": {
            "needs_background": "light"
          }
        },
        {
          "output_type": "stream",
          "name": "stdout",
          "text": [
            "label =  3\n"
          ]
        },
        {
          "output_type": "display_data",
          "data": {
            "image/png": "[encoded data removed]",
            "text/plain": [
              "<Figure size 432x288 with 1 Axes>"
            ]
          },
          "metadata": {
            "needs_background": "light"
          }
        },
        {
          "output_type": "stream",
          "name": "stdout",
          "text": [
            "label =  1\n"
          ]
        },
        {
          "output_type": "display_data",
          "data": {
            "image/png": "[encoded data removed]",
            "text/plain": [
              "<Figure size 432x288 with 1 Axes>"
            ]
          },
          "metadata": {
            "needs_background": "light"
          }
        },
        {
          "output_type": "stream",
          "name": "stdout",
          "text": [
            "label =  4\n"
          ]
        },
        {
          "output_type": "display_data",
          "data": {
            "image/png": "[encoded data removed]",
            "text/plain": [
              "<Figure size 432x288 with 1 Axes>"
            ]
          },
          "metadata": {
            "needs_background": "light"
          }
        }
      ]
    },
    {
      "cell_type": "code",
      "metadata": {
        "id": "oMz1VoLq9DBO"
      },
      "source": [
        "#import KNN Classifier\n",
        "from sklearn.neighbors import KNeighborsClassifier"
      ],
      "execution_count": 13,
      "outputs": []
    },
    {
      "cell_type": "code",
      "metadata": {
        "id": "Mq8AUd4W9HE1",
        "colab": {
          "base_uri": "https://localhost:8080/"
        },
        "outputId": "fd4f5f57-0aa7-4a38-f180-34529c55b1b3"
      },
      "source": [
        "## Melatih model\n",
        " \n",
        "for k in [1, 3, 5, 7, 9, 11, 13, 15, 25]:\n",
        "    model = KNeighborsClassifier(n_neighbors=k)\n",
        "    model.fit(trainData, trainLabels)\n",
        " \n",
        "    score = model.score(valData, valLabels)\n",
        "    print(k, score) "
      ],
      "execution_count": 14,
      "outputs": [
        {
          "output_type": "stream",
          "name": "stdout",
          "text": [
            "1 0.88\n",
            "3 0.88\n",
            "5 0.86\n",
            "7 0.845\n",
            "9 0.85\n",
            "11 0.835\n",
            "13 0.815\n",
            "15 0.81\n",
            "25 0.795\n"
          ]
        }
      ]
    },
    {
      "cell_type": "code",
      "metadata": {
        "id": "pUfWJP719KQE",
        "colab": {
          "base_uri": "https://localhost:8080/"
        },
        "outputId": "cf47d237-8110-4ee0-b924-e8c5d6039aea"
      },
      "source": [
        "# melatih ulang classifier menggunakan nilai k terbaik value dan memprediksikan label\n",
        "model = KNeighborsClassifier(n_neighbors=3)\n",
        "model.fit(trainData, trainLabels)\n",
        "accuracy = model.score(testData, testLabels)\n",
        "print(\"Achieved accuracy of %.2f%% on test data\" % (accuracy*100))"
      ],
      "execution_count": 15,
      "outputs": [
        {
          "output_type": "stream",
          "name": "stdout",
          "text": [
            "Achieved accuracy of 85.50% on test data\n"
          ]
        }
      ]
    },
    {
      "cell_type": "code",
      "metadata": {
        "id": "cUT2rBwY9MRh",
        "colab": {
          "base_uri": "https://localhost:8080/"
        },
        "outputId": "2a3b3242-8be2-42f9-cc16-cf9f28429d57"
      },
      "source": [
        "from sklearn.metrics import classification_report\n",
        "predictions = model.predict(testData)\n",
        "print(\"Classification Report\")\n",
        "print(classification_report(testLabels, predictions))"
      ],
      "execution_count": 16,
      "outputs": [
        {
          "output_type": "stream",
          "name": "stdout",
          "text": [
            "Classification Report\n",
            "              precision    recall  f1-score   support\n",
            "\n",
            "           0       0.85      1.00      0.92        17\n",
            "           1       0.80      1.00      0.89        28\n",
            "           2       0.80      0.75      0.77        16\n",
            "           3       0.92      0.75      0.83        16\n",
            "           4       0.95      0.68      0.79        28\n",
            "           5       0.94      0.85      0.89        20\n",
            "           6       1.00      0.90      0.95        20\n",
            "           7       0.88      0.92      0.90        24\n",
            "           8       1.00      0.70      0.82        10\n",
            "           9       0.66      0.90      0.76        21\n",
            "\n",
            "    accuracy                           0.85       200\n",
            "   macro avg       0.88      0.84      0.85       200\n",
            "weighted avg       0.87      0.85      0.85       200\n",
            "\n"
          ]
        }
      ]
    },
    {
      "cell_type": "code",
      "metadata": {
        "id": "Ug62-h8d9OK3",
        "colab": {
          "base_uri": "https://localhost:8080/"
        },
        "outputId": "14d402f8-6867-45aa-ec49-7b373d570169"
      },
      "source": [
        "from sklearn.metrics import confusion_matrix\n",
        "print(\"Confusion Matrix\")\n",
        "print(confusion_matrix(testLabels, predictions))"
      ],
      "execution_count": 17,
      "outputs": [
        {
          "output_type": "stream",
          "name": "stdout",
          "text": [
            "Confusion Matrix\n",
            "[[17  0  0  0  0  0  0  0  0  0]\n",
            " [ 0 28  0  0  0  0  0  0  0  0]\n",
            " [ 1  2 12  0  0  0  0  1  0  0]\n",
            " [ 0  2  1 12  0  0  0  0  0  1]\n",
            " [ 0  1  0  0 19  0  0  0  0  8]\n",
            " [ 0  1  0  1  1 17  0  0  0  0]\n",
            " [ 2  0  0  0  0  0 18  0  0  0]\n",
            " [ 0  1  0  0  0  0  0 22  0  1]\n",
            " [ 0  0  2  0  0  1  0  0  7  0]\n",
            " [ 0  0  0  0  0  0  0  2  0 19]]\n"
          ]
        }
      ]
    },
    {
      "cell_type": "code",
      "metadata": {
        "id": "u3fl4mwkeiqL",
        "colab": {
          "base_uri": "https://localhost:8080/"
        },
        "outputId": "9e6a6e61-d403-4ad4-fe31-3509f7022cec"
      },
      "source": [
        "testData"
      ],
      "execution_count": 18,
      "outputs": [
        {
          "output_type": "execute_result",
          "data": {
            "text/plain": [
              "array([[0., 0., 0., ..., 0., 0., 0.],\n",
              "       [0., 0., 0., ..., 0., 0., 0.],\n",
              "       [0., 0., 0., ..., 0., 0., 0.],\n",
              "       ...,\n",
              "       [0., 0., 0., ..., 0., 0., 0.],\n",
              "       [0., 0., 0., ..., 0., 0., 0.],\n",
              "       [0., 0., 0., ..., 0., 0., 0.]], dtype=float32)"
            ]
          },
          "metadata": {},
          "execution_count": 18
        }
      ]
    }
  ]
}