{
  "nbformat": 4,
  "nbformat_minor": 0,
  "metadata": {
    "colab": {
      "name": "DataStructure.ipynb",
      "provenance": [],
      "authorship_tag": "ABX9TyOJH/ajTGHc5+v6upV6VnJl",
      "include_colab_link": true
    },
    "kernelspec": {
      "name": "python3",
      "display_name": "Python 3"
    },
    "language_info": {
      "name": "python"
    }
  },
  "cells": [
    {
      "cell_type": "markdown",
      "metadata": {
        "id": "view-in-github",
        "colab_type": "text"
      },
      "source": [
        "<a href=\"https://colab.research.google.com/github/sheilta/orbitgeny/blob/main/DataStructure.ipynb\" target=\"_parent\"><img src=\"https://colab.research.google.com/assets/colab-badge.svg\" alt=\"Open In Colab\"/></a>"
      ]
    },
    {
      "cell_type": "code",
      "metadata": {
        "id": "yX5IWdNWm6Ek"
      },
      "source": [
        ""
      ],
      "execution_count": null,
      "outputs": []
    },
    {
      "cell_type": "markdown",
      "metadata": {
        "id": "BMjuYnvhoSQI"
      },
      "source": [
        "# **Data Structure and Algorithm**\n",
        "\n",
        "Pada pembelajaran data structure dan algorithm ini kita akan menggunakan google colab untuk editor sekaligus untuk run programnya."
      ]
    },
    {
      "cell_type": "markdown",
      "metadata": {
        "id": "KzPgjh6BoTIl"
      },
      "source": [
        "## Kendali program, lanjutan\n",
        "1. if bersarang\n",
        "2. pass\n",
        "3. defining function\n",
        "4. break & continue"
      ]
    },
    {
      "cell_type": "markdown",
      "metadata": {
        "id": "J6ySOOm_oViu"
      },
      "source": [
        "1. if bersarang\n",
        "\n",
        "tatemen seleksi if…else bersarang untuk beberapa kasus dilakukan dengan menempatkan statemen if…else didalam statemen if…else lain.\n"
      ]
    },
    {
      "cell_type": "code",
      "metadata": {
        "colab": {
          "base_uri": "https://localhost:8080/"
        },
        "id": "nXVHMwsGptt0",
        "outputId": "242fa19d-6fdb-4c6d-9b06-54f38c8e5039"
      },
      "source": [
        "# Ubah saja variabel a dan b sesuai dengan kebutuhan untuk contoh lainnya\n",
        "\n",
        "a = 4\n",
        "b = 3\n",
        "if(a == b):\n",
        "    if(a != 4):\n",
        "        print(\"Nilai A sama dengan B namun bukan angka 4\")\n",
        "    else:\n",
        "        print(\"Nilai A sama dengan B\")\n",
        "elif(a > b):\n",
        "    print(\"Nilai A lebih besar dari B\")\n",
        "else:\n",
        "    print(\"Nilai A lebih kecil dari B\")"
      ],
      "execution_count": null,
      "outputs": [
        {
          "output_type": "stream",
          "name": "stdout",
          "text": [
            "Nilai A lebih besar dari B\n"
          ]
        }
      ]
    },
    {
      "cell_type": "code",
      "metadata": {
        "colab": {
          "base_uri": "https://localhost:8080/"
        },
        "id": "bCfELBIIqAbM",
        "outputId": "f233d7c7-cb56-48a7-a24e-0f7e1269f202"
      },
      "source": [
        "#Ubah saja variabel a dan b sesuai kebutuhan\n",
        "a= 3\n",
        "b=5\n",
        "if(a==b):\n",
        "    if(a != 3):\n",
        "      print(\"Nilai A sama dengan B namun bukan angka 3\")\n",
        "    else:\n",
        "      print(\"Nilai A sama dengan B\")\n",
        "elif(a > b):\n",
        "    print(\"Nilai A lebih besar dari B\")\n",
        "else:\n",
        "    print(\"Nilai A lebih kecil dari B\")"
      ],
      "execution_count": null,
      "outputs": [
        {
          "output_type": "stream",
          "name": "stdout",
          "text": [
            "Nilai A lebih kecil dari B\n"
          ]
        }
      ]
    },
    {
      "cell_type": "markdown",
      "metadata": {
        "id": "brZ6LJi0rcUd"
      },
      "source": [
        "2. pass\n",
        "\n",
        "Statemen pass tidak melakukan proses apa-apa. Statement ini dapat digunakan ketika pernyataan diperlukan secara sintaksis tetapi program tidak memerlukan Tindakan apapun.\n"
      ]
    },
    {
      "cell_type": "code",
      "metadata": {
        "id": "cffG0DJ0ra78"
      },
      "source": [
        "# Ubah saja variabel x sesuai dengan kebutuhan untuk contoh lainnya\n",
        "x = 6 \n",
        "\n",
        "if (x < 5):\n",
        "  x = 3\n",
        "  print(x)\n",
        "else:\n",
        "  pass"
      ],
      "execution_count": null,
      "outputs": []
    },
    {
      "cell_type": "markdown",
      "metadata": {
        "id": "arQP7KQRr2jT"
      },
      "source": [
        "3. defining function\n",
        "\n",
        "Pernyataan def  merupakan sebuah definisi fungsi. Pernyataan def harus diikuti dengan nama fungsi dan daftar parameter formal dalam kurung. Pernyataan-pernyataan yang membentuk badan fungsi dimulai pada baris berikutnya, dan harus diindentasi (penulisan baris berikutnya harus menjorok kedalam satu tab).\n"
      ]
    },
    {
      "cell_type": "code",
      "metadata": {
        "colab": {
          "base_uri": "https://localhost:8080/"
        },
        "id": "lxaN-llSr0oK",
        "outputId": "6b71e718-2310-4f78-dc93-9b3905027a0f"
      },
      "source": [
        "# Pada baris kedua setelah baris fungsi def maka harus menjorok 1 tab kedalam\n",
        "\n",
        "def fib(n):    # write Fibonacci series up to n\n",
        "  a, b = 0, 1  # a=0 dan b=1 Pada baris kedua setelah baris fungsi def maka harus emnjorok 1 tab kedalam\n",
        "  while a < n:\n",
        "    print(a, end=' ') #perintah print a kemudian spasi\n",
        "    a, b = b, a+b # habis di print a kemudian a nya diganti b dan b diganti a+b\n",
        "\n",
        "# Now call the function we just defined:\n",
        "fib(2000)"
      ],
      "execution_count": null,
      "outputs": [
        {
          "output_type": "stream",
          "name": "stdout",
          "text": [
            "0 1 1 2 3 5 8 13 21 34 55 89 144 233 377 610 987 1597 "
          ]
        }
      ]
    },
    {
      "cell_type": "markdown",
      "metadata": {
        "id": "HpnOUVJ9sldO"
      },
      "source": [
        "4. Break\n",
        "\n",
        "Pernyataan break, sama seperti dalam Bahasa C, yaitu digunakan untuk keluar dari looping for atau looping while.\n"
      ]
    },
    {
      "cell_type": "code",
      "metadata": {
        "colab": {
          "base_uri": "https://localhost:8080/"
        },
        "id": "FZ4Xigu_rxMB",
        "outputId": "7e7c4b79-6c5f-4839-920e-1775088e1c1b"
      },
      "source": [
        "for n in range(2, 10):\n",
        "  for x in range(2, n):\n",
        "    if n % x == 0:\n",
        "      print(n, 'sama dengan', x, '*', n//x)\n",
        "      break\n",
        "    else:\n",
        "      # loop fell through without finding a factor\n",
        "      print(n, 'ini adalah sebuah bilangan prima')"
      ],
      "execution_count": null,
      "outputs": [
        {
          "output_type": "stream",
          "name": "stdout",
          "text": [
            "4 sama dengan 2 * 2\n",
            "6 sama dengan 2 * 3\n",
            "6 sama dengan 3 * 2\n",
            "8 sama dengan 2 * 4\n",
            "8 sama dengan 4 * 2\n",
            "9 sama dengan 3 * 3\n"
          ]
        }
      ]
    },
    {
      "cell_type": "markdown",
      "metadata": {
        "id": "IKJRz6rbtdm4"
      },
      "source": [
        "5. Break\n",
        "\n",
        "Sedangkan continue untuk melanjutkan ke iterasi berikutnya dari sebuah loop.\n"
      ]
    },
    {
      "cell_type": "code",
      "metadata": {
        "colab": {
          "base_uri": "https://localhost:8080/"
        },
        "id": "fT-22hkJtq-4",
        "outputId": "c765b802-8a76-4cc6-e777-f67674f4095a"
      },
      "source": [
        "for num in range(2, 10):\n",
        "  if num % 2 == 0:\n",
        "    print(\"Nomor genap ditemukan\", num)\n",
        "    continue\n",
        "  print(\"Nomor ganjil ditemukan\", num)"
      ],
      "execution_count": null,
      "outputs": [
        {
          "output_type": "stream",
          "name": "stdout",
          "text": [
            "Nomor genap ditemukan 2\n",
            "Nomor ganjil ditemukan 3\n",
            "Nomor genap ditemukan 4\n",
            "Nomor ganjil ditemukan 5\n",
            "Nomor genap ditemukan 6\n",
            "Nomor ganjil ditemukan 7\n",
            "Nomor genap ditemukan 8\n",
            "Nomor ganjil ditemukan 9\n"
          ]
        }
      ]
    },
    {
      "cell_type": "markdown",
      "metadata": {
        "id": "mNiI-WTVt6eT"
      },
      "source": [
        "## Object-Oriented Programming (OOP) - Intro\n",
        "\n",
        "Pemrograman berorientasi objek atau dalam bahasa inggris disebut Object Oriented Programming (OOP) adalah paradigma atau teknik pemrograman di mana semua hal dalam program dimodelkan seperti objek dalam dunia nyata. Objek di dunia nyata memiliki ciri atau attribut dan juga aksi atau kelakuan (behaviour).\n"
      ]
    },
    {
      "cell_type": "code",
      "metadata": {
        "colab": {
          "base_uri": "https://localhost:8080/"
        },
        "id": "_Pj6-kp9t6Gv",
        "outputId": "83f99596-95c5-4bb6-c49a-8e7e40853bad"
      },
      "source": [
        "class Segitiga:\n",
        "  def __init__(self, alas, tinggi):\n",
        "    self.alas = alas\n",
        "    self.tinggi = tinggi\n",
        "\n",
        "  def get_luas(self):\n",
        "    return 0.5 * self.alas * self.tinggi\n",
        "\n",
        "segitiga1 = Segitiga(5, 10)\n",
        "segitiga2 = Segitiga(10, 10)\n",
        "\n",
        "print('luas segitiga1:', segitiga1.get_luas())\n",
        "print('luas segitiga2:', segitiga2.get_luas())    "
      ],
      "execution_count": null,
      "outputs": [
        {
          "output_type": "stream",
          "name": "stdout",
          "text": [
            "luas segitiga1: 25.0\n",
            "luas segitiga2: 50.0\n"
          ]
        }
      ]
    },
    {
      "cell_type": "markdown",
      "metadata": {
        "id": "HQAMs3p9uCAV"
      },
      "source": [
        "# Algoritma\n",
        "\n",
        "1. Tree Traversal Algorithm\n",
        "2. Sorting Algorithm\n",
        "3. Searching Algorithm"
      ]
    },
    {
      "cell_type": "markdown",
      "metadata": {
        "id": "vLGeh72OuHse"
      },
      "source": [
        "## 1. Tree Traversal Algorithm\n",
        "### a. In-Order Traversal\n",
        "### b. Pre-Order Traversal\n",
        "### c. Post-Order Traversal"
      ]
    },
    {
      "cell_type": "code",
      "metadata": {
        "id": "4km8X7vIuFZ9"
      },
      "source": [
        "# create the class Node and the attrbutes \n",
        "class Node:\n",
        "    def __init__(self, letter):\n",
        "        self.childleft = None\n",
        "        self.childright = None\n",
        "        self.nodedata = letter\n",
        "\n",
        "# create the nodes for the tree\n",
        "root = Node('A')\n",
        "root.childleft = Node('B')\n",
        "root.childright = Node('C')\n",
        "root.childleft.childleft = Node('D')\n",
        "root.childleft.childright = Node('E')"
      ],
      "execution_count": null,
      "outputs": []
    },
    {
      "cell_type": "markdown",
      "metadata": {
        "id": "RkQOITKIuRGL"
      },
      "source": [
        "A. In-Order Traversal"
      ]
    },
    {
      "cell_type": "code",
      "metadata": {
        "colab": {
          "base_uri": "https://localhost:8080/"
        },
        "id": "FGmqCj0MukoD",
        "outputId": "9247b9cd-667a-4410-f25a-d907ec7832ce"
      },
      "source": [
        "def InOrd(root):\n",
        "    if root:\n",
        "        InOrd(root.childleft)\n",
        "        print(root.nodedata)\n",
        "        InOrd(root.childright)\n",
        "InOrd(root)"
      ],
      "execution_count": null,
      "outputs": [
        {
          "output_type": "stream",
          "name": "stdout",
          "text": [
            "D\n",
            "B\n",
            "E\n",
            "A\n",
            "C\n"
          ]
        }
      ]
    },
    {
      "cell_type": "markdown",
      "metadata": {
        "id": "Pv9OgRIaum7F"
      },
      "source": [
        "B. Pre-Order Traversal"
      ]
    },
    {
      "cell_type": "code",
      "metadata": {
        "colab": {
          "base_uri": "https://localhost:8080/"
        },
        "id": "IsTTk-UsupZt",
        "outputId": "320495ed-2602-472f-8dc7-9fb92708ff4c"
      },
      "source": [
        "def PreOrd(root):\n",
        "    if root:\n",
        "        print(root.nodedata)\n",
        "        PreOrd(root.childleft)\n",
        "        PreOrd(root.childright)\n",
        "PreOrd(root)"
      ],
      "execution_count": null,
      "outputs": [
        {
          "output_type": "stream",
          "name": "stdout",
          "text": [
            "A\n",
            "B\n",
            "D\n",
            "E\n",
            "C\n"
          ]
        }
      ]
    },
    {
      "cell_type": "markdown",
      "metadata": {
        "id": "G81mKVITu6gi"
      },
      "source": [
        "C. Post-Order Traversal"
      ]
    },
    {
      "cell_type": "code",
      "metadata": {
        "colab": {
          "base_uri": "https://localhost:8080/"
        },
        "id": "mSuF6xoQu439",
        "outputId": "dcdaf10e-dd68-4796-c65f-5559ef5bc54d"
      },
      "source": [
        "def PostOrd(root):\n",
        "    if root:\n",
        "        PostOrd(root.childleft)\n",
        "        PostOrd(root.childright)\n",
        "        print(root.nodedata)\n",
        "PostOrd(root)"
      ],
      "execution_count": null,
      "outputs": [
        {
          "output_type": "stream",
          "name": "stdout",
          "text": [
            "D\n",
            "E\n",
            "B\n",
            "C\n",
            "A\n"
          ]
        }
      ]
    },
    {
      "cell_type": "markdown",
      "metadata": {
        "id": "y08aKzRsvNOu"
      },
      "source": [
        "## 2. Sorting Algorithm\n",
        "### a. Merge Sort\n",
        "### b. Bubble Sort"
      ]
    },
    {
      "cell_type": "markdown",
      "metadata": {
        "id": "4sX3-09-vR1x"
      },
      "source": [
        "### Contoh dari Merge Sort\n",
        "\n",
        "Masukkan nilai input misalnya 12 1 6 3 9 20 50 (kasih spasi setiap nilai)"
      ]
    },
    {
      "cell_type": "code",
      "metadata": {
        "colab": {
          "base_uri": "https://localhost:8080/"
        },
        "id": "KX8FtXlGvWPF",
        "outputId": "8bb7b30c-3750-41dc-8a1b-0d5ff78b9617"
      },
      "source": [
        "#Masukkan nilai input misalnya 12 1 6 3 9 20 50 (kasih spasi setiap nilai)\n",
        "\n",
        "def merge_sort(ourlist, left, right): #left and right corresponds to starting and ending element of ourlist\n",
        "    if right -left > 1: # check if the length of ourlist is greater than 1\n",
        "        middle = (left + right) // 2 # we divide the length in two parts\n",
        "        merge_sort(ourlist, left, middle) # recursevely I call the merge_sort function from left to middle\n",
        "        merge_sort(ourlist, middle, right) # then from middle to right\n",
        "        merge_list(ourlist, left, middle, right) # finally I create ourlist in complete form(left, middle and right) \n",
        "        \n",
        "def merge_list(ourlist, left, middle, right):# I create the function merged_list\n",
        "    leftlist = ourlist[left:middle] # I define the leftlist\n",
        "    rightlist = ourlist[middle:right] # I define the right list\n",
        "    k = left # it is the the temporary variable\n",
        "    i = 0 # this variable that corespond to the index of the first group help me to iterate from left to right\n",
        "    j = 0 # this variable that corespond to the index of the second group help me to iterate from left to right\n",
        "    while (left + i < middle and middle+ j < right): # the condition that I want to achive before to stop my iteration\n",
        "        if (leftlist[i] <= rightlist[j]): #if the element in the leftlist is less or equal to the element in the rightlist\n",
        "            ourlist[k] = leftlist[i] # In this case I fill the value of the leftlist in ourlist with index k\n",
        "            i = i + 1 #now I have to increment the value by 1\n",
        "        else: # if the above codition is not match\n",
        "            ourlist[k] = rightlist[j] # I fill the rightlist element in ourlist with index k\n",
        "            j = j + 1 # I increment index j by 1\n",
        "        k = k+1 # now I increment the value of k by 1\n",
        "    if left + i < middle: # check if left + i is less than middle\n",
        "        ourlist[k] = leftlist[i] # I place all elements of my leftlist in ourlist\n",
        "        i = i + 1\n",
        "        k = k + 1\n",
        "    else: # otherwise if my leftlist is empty\n",
        "        while k < right: # untill k is less then right\n",
        "            ourlist[k] = rightlist[j] # I place all elements of rightlist in ourlist \n",
        "            j = j + 1\n",
        "            k = k + 1\n",
        "            \n",
        "ourlist = input('input - masukkan nilai yang belum di sorting, kasih spasi pada setiap nilai, misalnya 1 23 6 5: ').split() # insert the input and split\n",
        "ourlist = [int(x) for x in ourlist]\n",
        "merge_sort(ourlist, 0, len(ourlist))\n",
        "print('output - nilai2 yang sudah di sorting: ')\n",
        "print(ourlist)"
      ],
      "execution_count": null,
      "outputs": [
        {
          "output_type": "stream",
          "name": "stdout",
          "text": [
            "input - masukkan nilai yang belum di sorting, kasih spasi pada setiap nilai, misalnya 1 23 6 5: 4 80 7 9\n",
            "output - nilai2 yang sudah di sorting: \n",
            "[4, 7, 9, 80]\n"
          ]
        }
      ]
    },
    {
      "cell_type": "markdown",
      "metadata": {
        "id": "Pkj8prxQvaVM"
      },
      "source": [
        "### Contoh dari Buuble Sort"
      ]
    },
    {
      "cell_type": "code",
      "metadata": {
        "colab": {
          "base_uri": "https://localhost:8080/"
        },
        "id": "7BFnUqVKvdIt",
        "outputId": "16fee1c6-c19e-4ebc-8669-65d36e3d9d63"
      },
      "source": [
        "# Python program for implementation of Bubble Sort\n",
        "  \n",
        "def bubbleSort(arr):\n",
        "    n = len(arr)\n",
        "  \n",
        "    # Traverse through all array elements\n",
        "    for i in range(n-1):\n",
        "    # range(n) also work but outer loop will repeat one time more than needed.\n",
        "  \n",
        "        # Last i elements are already in place\n",
        "        for j in range(0, n-i-1):\n",
        "  \n",
        "            # traverse the array from 0 to n-i-1\n",
        "            # Swap if the element found is greater\n",
        "            # than the next element\n",
        "            if arr[j] > arr[j + 1] :\n",
        "                arr[j], arr[j + 1] = arr[j + 1], arr[j]\n",
        "  \n",
        "# Driver code to test above\n",
        "arr = [64, 34, 25, 12, 22, 11, 90] # Nilai dalam array bisa di ubah sesuai keinginan\n",
        "  \n",
        "bubbleSort(arr)\n",
        "  \n",
        "print (\"Sorted array is:\")\n",
        "for i in range(len(arr)):\n",
        "    print (\"% d\" % arr[i]), "
      ],
      "execution_count": null,
      "outputs": [
        {
          "output_type": "stream",
          "name": "stdout",
          "text": [
            "Sorted array is:\n",
            " 11\n",
            " 12\n",
            " 22\n",
            " 25\n",
            " 34\n",
            " 64\n",
            " 90\n"
          ]
        }
      ]
    },
    {
      "cell_type": "code",
      "metadata": {
        "colab": {
          "base_uri": "https://localhost:8080/"
        },
        "id": "X8vHbjvovpG5",
        "outputId": "72b64cb1-482e-4b79-b418-60d233fe6d51"
      },
      "source": [
        "class Point():\n",
        "    # A method defining how to create a point:\n",
        "    def __init__(self, x, y):\n",
        "        self.x = x\n",
        "        self.y = y\n",
        "\n",
        "p = Point(2, 8)\n",
        "print(p.x)\n",
        "print(p.y)"
      ],
      "execution_count": null,
      "outputs": [
        {
          "output_type": "stream",
          "name": "stdout",
          "text": [
            "2\n",
            "8\n"
          ]
        }
      ]
    },
    {
      "cell_type": "markdown",
      "metadata": {
        "id": "CmCMA41NvuFG"
      },
      "source": [
        "## 3. Searching Algorithm\n",
        "### a. Linier Seacrh\n",
        "### b. Binary Search"
      ]
    },
    {
      "cell_type": "markdown",
      "metadata": {
        "id": "4yl_DqMUvzhb"
      },
      "source": [
        "### Contoh Linier Search"
      ]
    },
    {
      "cell_type": "code",
      "metadata": {
        "colab": {
          "base_uri": "https://localhost:8080/",
          "height": 35
        },
        "id": "kpvjWHxSvrHI",
        "outputId": "978371a1-76a3-4b0c-ae05-1a54cc717071"
      },
      "source": [
        "# NIlai yang dicari didalam list, bisa dirumah sesuai kebutuhan untuk testing hasil lainnya\n",
        "nilai = 4 \n",
        "\n",
        "def lin_search(ourlist, key):\n",
        "    \n",
        "    for index in range(0, len(ourlist)):\n",
        "        if (ourlist[index] == key):\n",
        "            print(\"Nilai ditemukan\")\n",
        "            return  index\n",
        "    else:\n",
        "        return \"Nilai tidak ditemukan\"\n",
        "    \n",
        "ourlist = [15, 1, 9, 3]\n",
        "\n",
        "lin_search(ourlist, nilai)\n",
        "\n",
        "\n"
      ],
      "execution_count": null,
      "outputs": [
        {
          "output_type": "execute_result",
          "data": {
            "application/vnd.google.colaboratory.intrinsic+json": {
              "type": "string"
            },
            "text/plain": [
              "'Nilai tidak ditemukan'"
            ]
          },
          "metadata": {},
          "execution_count": 50
        }
      ]
    },
    {
      "cell_type": "markdown",
      "metadata": {
        "id": "sVkBzUyAv5ib"
      },
      "source": [
        "### Contoh Binary Search"
      ]
    },
    {
      "cell_type": "code",
      "metadata": {
        "colab": {
          "base_uri": "https://localhost:8080/"
        },
        "id": "Lcknt5mSv2YZ",
        "outputId": "dc64efc3-bf8b-4ed8-9a2c-cec652124120"
      },
      "source": [
        "# NIlai dari variabel nilai_a dan nilai_b yang dicari didalam list, bisa dirubah sesuai kebutuhan untuk testing hasil lainnya\n",
        "\n",
        "nilai_a = 17\n",
        "nilai_b = 3\n",
        "\n",
        "def bin_search(ourlist, key):\n",
        "    left = 0 # I assign left position to zero\n",
        "    right = len(ourlist)-1 # I assign right position by defining the length of ourlist minus one \n",
        "    matched = False\n",
        "    while(left<=right and not matched): # the loop will continue untill the left element is less \n",
        "                                        # or equal to the right element and the matched is True\n",
        "        mid = (left+right)//2 # I find the position of the middle element\n",
        "        if ourlist[mid] == key: # if the middle element correponds to the key element\n",
        "             matched = True\n",
        "        else: #otherwise \n",
        "            if key < ourlist[mid]: # if key element is less than the middle element\n",
        "                right = mid - 1 #I assign the position of the right element as mid - 1\n",
        "            else: #otherwise\n",
        "                left = mid + 1 #left position will become the middle position plus 1\n",
        "    return matched\n",
        "\n",
        "print(bin_search([1, 3, 9, 15], nilai_a))\n",
        "print(bin_search([1, 3, 9, 15], nilai_b))"
      ],
      "execution_count": null,
      "outputs": [
        {
          "output_type": "stream",
          "name": "stdout",
          "text": [
            "False\n",
            "True\n"
          ]
        }
      ]
    },
    {
      "cell_type": "code",
      "metadata": {
        "colab": {
          "base_uri": "https://localhost:8080/"
        },
        "id": "cVZd8JkDv-XL",
        "outputId": "919e5834-43be-45e7-dd5b-1b249dbd1843"
      },
      "source": [
        "class Point():\n",
        "    # A method defining how to create a point:\n",
        "    def __init__(self, x, y):\n",
        "        self.x = x\n",
        "        self.y = y\n",
        "\n",
        "p = Point(2, 8)\n",
        "print(p.x)\n",
        "print(p.y)"
      ],
      "execution_count": null,
      "outputs": [
        {
          "output_type": "stream",
          "name": "stdout",
          "text": [
            "2\n",
            "8\n"
          ]
        }
      ]
    },
    {
      "cell_type": "code",
      "metadata": {
        "colab": {
          "base_uri": "https://localhost:8080/"
        },
        "id": "_mE6MqjKwAPN",
        "outputId": "503bd9ba-2720-44c3-eebf-8d08b3a7b4be"
      },
      "source": [
        "def hello():\n",
        "    print(\"Hello, world!\")\n",
        "\n",
        "hello()"
      ],
      "execution_count": null,
      "outputs": [
        {
          "output_type": "stream",
          "name": "stdout",
          "text": [
            "Hello, world!\n"
          ]
        }
      ]
    }
  ]
}