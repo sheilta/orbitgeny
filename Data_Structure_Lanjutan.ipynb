{
  "nbformat": 4,
  "nbformat_minor": 0,
  "metadata": {
    "colab": {
      "name": "Data Structure Lanjutan.ipynb",
      "provenance": [],
      "authorship_tag": "ABX9TyMZkZpneD3aoX6+UTL8hofW",
      "include_colab_link": true
    },
    "kernelspec": {
      "name": "python3",
      "display_name": "Python 3"
    },
    "language_info": {
      "name": "python"
    }
  },
  "cells": [
    {
      "cell_type": "markdown",
      "metadata": {
        "id": "view-in-github",
        "colab_type": "text"
      },
      "source": [
        "<a href=\"https://colab.research.google.com/github/sheilta/orbitgeny/blob/main/Data_Structure_Lanjutan.ipynb\" target=\"_parent\"><img src=\"https://colab.research.google.com/assets/colab-badge.svg\" alt=\"Open In Colab\"/></a>"
      ]
    },
    {
      "cell_type": "code",
      "metadata": {
        "colab": {
          "base_uri": "https://localhost:8080/"
        },
        "id": "HYuqpAjk1vf5",
        "outputId": "de137a1d-3f65-4bd7-defc-f83d1b6473fd"
      },
      "source": [
        "# 1. Membuat Tuple dan Cek typenya\n",
        "fruits = (\"apple\", \"banana\", \"cherry\", \"orange\", \"kiwi\", \"melon\", \"mango\")\n",
        "type(fruits)"
      ],
      "execution_count": 1,
      "outputs": [
        {
          "output_type": "execute_result",
          "data": {
            "text/plain": [
              "tuple"
            ]
          },
          "metadata": {},
          "execution_count": 1
        }
      ]
    },
    {
      "cell_type": "code",
      "metadata": {
        "colab": {
          "base_uri": "https://localhost:8080/"
        },
        "id": "B0SgAY5G100T",
        "outputId": "9d06fae1-eeb8-485a-a412-7a041e4aec5a"
      },
      "source": [
        "len(fruits)"
      ],
      "execution_count": 2,
      "outputs": [
        {
          "output_type": "execute_result",
          "data": {
            "text/plain": [
              "7"
            ]
          },
          "metadata": {},
          "execution_count": 2
        }
      ]
    },
    {
      "cell_type": "code",
      "metadata": {
        "colab": {
          "base_uri": "https://localhost:8080/"
        },
        "id": "TDFdSglv14Dk",
        "outputId": "f3ae671c-5a0c-4600-a2a2-bb83c3c84e4e"
      },
      "source": [
        "# 2. Ambil item apple sebanyak 2, orange 1, mango 3\n",
        "# Simpan dengan nama variable add\n",
        "add = fruits[0],fruits[0],fruits[3],fruits[6],fruits[6],fruits[6]\n",
        "add"
      ],
      "execution_count": 3,
      "outputs": [
        {
          "output_type": "execute_result",
          "data": {
            "text/plain": [
              "('apple', 'apple', 'orange', 'mango', 'mango', 'mango')"
            ]
          },
          "metadata": {},
          "execution_count": 3
        }
      ]
    },
    {
      "cell_type": "code",
      "metadata": {
        "colab": {
          "base_uri": "https://localhost:8080/"
        },
        "id": "NUWwYO_A1523",
        "outputId": "f92ecbb2-0ac0-4353-bbcf-17696fc1d1f4"
      },
      "source": [
        "# 3. Buat variable new dengan berisi gabungkan variable add dengan variable fruits\n",
        "# Urutkan isi variable new\n",
        "new = fruits + add\n",
        "sorted(new)"
      ],
      "execution_count": 4,
      "outputs": [
        {
          "output_type": "execute_result",
          "data": {
            "text/plain": [
              "['apple',\n",
              " 'apple',\n",
              " 'apple',\n",
              " 'banana',\n",
              " 'cherry',\n",
              " 'kiwi',\n",
              " 'mango',\n",
              " 'mango',\n",
              " 'mango',\n",
              " 'mango',\n",
              " 'melon',\n",
              " 'orange',\n",
              " 'orange']"
            ]
          },
          "metadata": {},
          "execution_count": 4
        }
      ]
    },
    {
      "cell_type": "code",
      "metadata": {
        "colab": {
          "base_uri": "https://localhost:8080/"
        },
        "id": "DTOUTT9C17qu",
        "outputId": "435c98c8-c8ce-4f6c-edaa-8a2a48116a2a"
      },
      "source": [
        "# 4. Ubah variable new dari type data tuple menjadi set\n",
        "# Tambahkan item pear\n",
        "# Hitung jumlah itemnya\n",
        "new = set(new)\n",
        "new.add(\"pear\")\n",
        "print(new)\n",
        "len(new)"
      ],
      "execution_count": 5,
      "outputs": [
        {
          "output_type": "stream",
          "name": "stdout",
          "text": [
            "{'cherry', 'kiwi', 'banana', 'pear', 'apple', 'orange', 'melon', 'mango'}\n"
          ]
        },
        {
          "output_type": "execute_result",
          "data": {
            "text/plain": [
              "8"
            ]
          },
          "metadata": {},
          "execution_count": 5
        }
      ]
    },
    {
      "cell_type": "code",
      "metadata": {
        "colab": {
          "base_uri": "https://localhost:8080/"
        },
        "id": "z5sbNGyL19k5",
        "outputId": "04f92623-075d-4eef-973b-286d2dfbc021"
      },
      "source": [
        "# 5. Buat variable cars dengan ketentuan\n",
        "cars = {\"Toyota Vios\":270000000,\n",
        "       \"Toyota Yaris\":235000000,\n",
        "       \"Honda Civic\":400000000,\n",
        "       \"Nissan Skyline\":690000000,\n",
        "       \"Honda City\":312000000}\n",
        "print(cars)\n",
        "type(cars)"
      ],
      "execution_count": 6,
      "outputs": [
        {
          "output_type": "stream",
          "name": "stdout",
          "text": [
            "{'Toyota Vios': 270000000, 'Toyota Yaris': 235000000, 'Honda Civic': 400000000, 'Nissan Skyline': 690000000, 'Honda City': 312000000}\n"
          ]
        },
        {
          "output_type": "execute_result",
          "data": {
            "text/plain": [
              "dict"
            ]
          },
          "metadata": {},
          "execution_count": 6
        }
      ]
    },
    {
      "cell_type": "code",
      "metadata": {
        "colab": {
          "base_uri": "https://localhost:8080/"
        },
        "id": "6hYGTzU-1_bW",
        "outputId": "fbab4345-fe5a-4ea3-bb22-8e2baa2987b4"
      },
      "source": [
        "# 6. Tambahkan key dan value dibawah ini\n",
        "# BMW M3:1900000000\n",
        "# urutkan berdasarkan item\n",
        "cars[\"BMW M3\"]=1900000000\n",
        "sorted(cars.items())"
      ],
      "execution_count": 7,
      "outputs": [
        {
          "output_type": "execute_result",
          "data": {
            "text/plain": [
              "[('BMW M3', 1900000000),\n",
              " ('Honda City', 312000000),\n",
              " ('Honda Civic', 400000000),\n",
              " ('Nissan Skyline', 690000000),\n",
              " ('Toyota Vios', 270000000),\n",
              " ('Toyota Yaris', 235000000)]"
            ]
          },
          "metadata": {},
          "execution_count": 7
        }
      ]
    },
    {
      "cell_type": "code",
      "metadata": {
        "colab": {
          "base_uri": "https://localhost:8080/"
        },
        "id": "Lq85O0xu2CEu",
        "outputId": "80772efc-a205-4a5c-dc2f-f649ce8027b9"
      },
      "source": [
        "# 7. Ubah value Nissan Skyline menjadi 641000000\n",
        "cars[\"Nissan Skyline\"] = 641000000\n",
        "cars"
      ],
      "execution_count": 8,
      "outputs": [
        {
          "output_type": "execute_result",
          "data": {
            "text/plain": [
              "{'BMW M3': 1900000000,\n",
              " 'Honda City': 312000000,\n",
              " 'Honda Civic': 400000000,\n",
              " 'Nissan Skyline': 641000000,\n",
              " 'Toyota Vios': 270000000,\n",
              " 'Toyota Yaris': 235000000}"
            ]
          },
          "metadata": {},
          "execution_count": 8
        }
      ]
    },
    {
      "cell_type": "code",
      "metadata": {
        "colab": {
          "base_uri": "https://localhost:8080/"
        },
        "id": "L-gCiC2_2Mfe",
        "outputId": "e06ade18-3637-43aa-b79a-b0a4eeb7d141"
      },
      "source": [
        "# 8. Ubah key Nissan Skyline menjadi Honda Accord\n",
        "cars[\"Honda Accord\"] = cars.pop(\"Nissan Skyline\")\n",
        "cars"
      ],
      "execution_count": 9,
      "outputs": [
        {
          "output_type": "execute_result",
          "data": {
            "text/plain": [
              "{'BMW M3': 1900000000,\n",
              " 'Honda Accord': 641000000,\n",
              " 'Honda City': 312000000,\n",
              " 'Honda Civic': 400000000,\n",
              " 'Toyota Vios': 270000000,\n",
              " 'Toyota Yaris': 235000000}"
            ]
          },
          "metadata": {},
          "execution_count": 9
        }
      ]
    },
    {
      "cell_type": "code",
      "metadata": {
        "colab": {
          "base_uri": "https://localhost:8080/"
        },
        "id": "0suFnEGZ2Oic",
        "outputId": "27387244-e6ce-4c83-a548-8f3837aeabe9"
      },
      "source": [
        "# 9. Buat variable cars_set dengan type data set berisi value dari variable cars\n",
        "# buat variable cars_total dengan berisi total dari seluruh item \n",
        "# cetak hasilnya\n",
        "cars_set = set(cars.values())\n",
        "cars_set"
      ],
      "execution_count": 10,
      "outputs": [
        {
          "output_type": "execute_result",
          "data": {
            "text/plain": [
              "{235000000, 270000000, 312000000, 400000000, 641000000, 1900000000}"
            ]
          },
          "metadata": {},
          "execution_count": 10
        }
      ]
    },
    {
      "cell_type": "code",
      "metadata": {
        "colab": {
          "base_uri": "https://localhost:8080/"
        },
        "id": "Rar_AZ5m2QXB",
        "outputId": "8945722d-5201-4fb0-8558-bf7f56bdecf6"
      },
      "source": [
        "# buat variable cars_total dengan berisi total dari seluruh item \n",
        "# cetak hasilnya\n",
        "cars_total = sum(cars_set)\n",
        "cars_total"
      ],
      "execution_count": 11,
      "outputs": [
        {
          "output_type": "execute_result",
          "data": {
            "text/plain": [
              "3758000000"
            ]
          },
          "metadata": {},
          "execution_count": 11
        }
      ]
    },
    {
      "cell_type": "code",
      "metadata": {
        "colab": {
          "base_uri": "https://localhost:8080/"
        },
        "id": "38zU80pG2SSi",
        "outputId": "29ac9355-64f6-4279-965e-5e158096d203"
      },
      "source": [
        "# 10. Tambahkan key Total pada variable cars dengan value cars_total\n",
        "# cetak hasilnya\n",
        "cars[\"Total\"] = cars_total\n",
        "cars"
      ],
      "execution_count": 12,
      "outputs": [
        {
          "output_type": "execute_result",
          "data": {
            "text/plain": [
              "{'BMW M3': 1900000000,\n",
              " 'Honda Accord': 641000000,\n",
              " 'Honda City': 312000000,\n",
              " 'Honda Civic': 400000000,\n",
              " 'Total': 3758000000,\n",
              " 'Toyota Vios': 270000000,\n",
              " 'Toyota Yaris': 235000000}"
            ]
          },
          "metadata": {},
          "execution_count": 12
        }
      ]
    },
    {
      "cell_type": "markdown",
      "metadata": {
        "id": "3FO4INvo2U3W"
      },
      "source": [
        "# **Conditional Test**"
      ]
    },
    {
      "cell_type": "markdown",
      "metadata": {
        "id": "ja8tWtVU2YpU"
      },
      "source": [
        "A conditional test is an expression that can be evaluated as True or False. Python uses the values True and False to decide whether the code in an if statement should be executed."
      ]
    },
    {
      "cell_type": "markdown",
      "metadata": {
        "id": "LHJb3KRw2bp_"
      },
      "source": [
        "***Checking for equality***"
      ]
    },
    {
      "cell_type": "markdown",
      "metadata": {
        "id": "wegGNc4u2fLf"
      },
      "source": [
        "A single equal sign assigns a value to a variable. A double equal sign (==) checks whether two values are equal."
      ]
    },
    {
      "cell_type": "code",
      "metadata": {
        "colab": {
          "base_uri": "https://localhost:8080/"
        },
        "id": "EKfogcW_2UfP",
        "outputId": "a4746365-f4ea-430b-bf8f-1a10d5d8f261"
      },
      "source": [
        "car = 'bmw' \n",
        "car == 'bmw' "
      ],
      "execution_count": 13,
      "outputs": [
        {
          "output_type": "execute_result",
          "data": {
            "text/plain": [
              "True"
            ]
          },
          "metadata": {},
          "execution_count": 13
        }
      ]
    },
    {
      "cell_type": "markdown",
      "metadata": {
        "id": "qnrq943b2nrB"
      },
      "source": [
        "***Ignoring case when making a comparison.***"
      ]
    },
    {
      "cell_type": "code",
      "metadata": {
        "colab": {
          "base_uri": "https://localhost:8080/"
        },
        "id": "BuEhb4KP2q0O",
        "outputId": "bf9013a9-815e-4194-b5bb-e813895ce7e5"
      },
      "source": [
        "car = 'Audi' \n",
        "car.lower() == 'audi'"
      ],
      "execution_count": 14,
      "outputs": [
        {
          "output_type": "execute_result",
          "data": {
            "text/plain": [
              "True"
            ]
          },
          "metadata": {},
          "execution_count": 14
        }
      ]
    },
    {
      "cell_type": "markdown",
      "metadata": {
        "id": "_x_jqhoE2smi"
      },
      "source": [
        "***Checking for inequality***"
      ]
    },
    {
      "cell_type": "code",
      "metadata": {
        "colab": {
          "base_uri": "https://localhost:8080/"
        },
        "id": "_6CBs8vC2vUI",
        "outputId": "36d2f546-0867-48ea-ec9d-29844526c493"
      },
      "source": [
        "topping = 'mushrooms' \n",
        "topping != 'anchovies'"
      ],
      "execution_count": 15,
      "outputs": [
        {
          "output_type": "execute_result",
          "data": {
            "text/plain": [
              "True"
            ]
          },
          "metadata": {},
          "execution_count": 15
        }
      ]
    },
    {
      "cell_type": "markdown",
      "metadata": {
        "id": "skaP2hD32xud"
      },
      "source": [
        "# **Numerical comparison**"
      ]
    },
    {
      "cell_type": "markdown",
      "metadata": {
        "id": "JDjOxW7Z20-H"
      },
      "source": [
        "Testing numerical values is similar to testing string values."
      ]
    },
    {
      "cell_type": "markdown",
      "metadata": {
        "id": "hl9ehk-123iT"
      },
      "source": [
        "***Testing equality and inequality***"
      ]
    },
    {
      "cell_type": "code",
      "metadata": {
        "colab": {
          "base_uri": "https://localhost:8080/"
        },
        "id": "KKKfL5bh27n_",
        "outputId": "a9ed7aa9-cf3c-4c25-f4b4-7fb39b0c319f"
      },
      "source": [
        "age = 18 \n",
        "age == 18"
      ],
      "execution_count": 16,
      "outputs": [
        {
          "output_type": "execute_result",
          "data": {
            "text/plain": [
              "True"
            ]
          },
          "metadata": {},
          "execution_count": 16
        }
      ]
    },
    {
      "cell_type": "code",
      "metadata": {
        "colab": {
          "base_uri": "https://localhost:8080/"
        },
        "id": "ARci62qx29Ld",
        "outputId": "d9262693-553e-46bb-9042-65b7744a52a0"
      },
      "source": [
        "age = 18 \n",
        "age != 18"
      ],
      "execution_count": 17,
      "outputs": [
        {
          "output_type": "execute_result",
          "data": {
            "text/plain": [
              "False"
            ]
          },
          "metadata": {},
          "execution_count": 17
        }
      ]
    },
    {
      "cell_type": "code",
      "metadata": {
        "colab": {
          "base_uri": "https://localhost:8080/"
        },
        "id": "ZL1A4PNp2-_H",
        "outputId": "493064a0-c672-4327-b01a-adb9a6ca8b89"
      },
      "source": [
        "age = 19 \n",
        "age < 21"
      ],
      "execution_count": 18,
      "outputs": [
        {
          "output_type": "execute_result",
          "data": {
            "text/plain": [
              "True"
            ]
          },
          "metadata": {},
          "execution_count": 18
        }
      ]
    },
    {
      "cell_type": "code",
      "metadata": {
        "colab": {
          "base_uri": "https://localhost:8080/"
        },
        "id": "2yiTPbtL3Ae6",
        "outputId": "db810eeb-6417-4787-f0bf-7982a829f776"
      },
      "source": [
        "age = 19 \n",
        "age > 21"
      ],
      "execution_count": 19,
      "outputs": [
        {
          "output_type": "execute_result",
          "data": {
            "text/plain": [
              "False"
            ]
          },
          "metadata": {},
          "execution_count": 19
        }
      ]
    },
    {
      "cell_type": "markdown",
      "metadata": {
        "id": "4LQuhtqN3C12"
      },
      "source": [
        "# **Checking multiple conditions**"
      ]
    },
    {
      "cell_type": "markdown",
      "metadata": {
        "id": "ydHDntbU3GKV"
      },
      "source": [
        "You can check multiple conditions at the same time. The and operator returns True if all conditions listed are True. The or operator returns True if any condition is True"
      ]
    },
    {
      "cell_type": "markdown",
      "metadata": {
        "id": "cBF_xjL-3H7v"
      },
      "source": [
        "***Using 'and' to check multiple conditions***"
      ]
    },
    {
      "cell_type": "code",
      "metadata": {
        "colab": {
          "base_uri": "https://localhost:8080/"
        },
        "id": "VCZS_eJH3KQl",
        "outputId": "d4c7d22e-afe0-4189-bc61-02476297e442"
      },
      "source": [
        "age_0 = 22\n",
        "age_1 = 18\n",
        "age_0 >= 21 and age_1 >= 21"
      ],
      "execution_count": 20,
      "outputs": [
        {
          "output_type": "execute_result",
          "data": {
            "text/plain": [
              "False"
            ]
          },
          "metadata": {},
          "execution_count": 20
        }
      ]
    },
    {
      "cell_type": "code",
      "metadata": {
        "colab": {
          "base_uri": "https://localhost:8080/"
        },
        "id": "fHJ_zWw03MHq",
        "outputId": "962985b9-59f4-41db-a2aa-594d5a2dd7ee"
      },
      "source": [
        "age_0 = 18\n",
        "age_1 = 18\n",
        "age_0 >= 21 or age_1 >= 21"
      ],
      "execution_count": 21,
      "outputs": [
        {
          "output_type": "execute_result",
          "data": {
            "text/plain": [
              "False"
            ]
          },
          "metadata": {},
          "execution_count": 21
        }
      ]
    },
    {
      "cell_type": "markdown",
      "metadata": {
        "id": "LoeKoVio3RPU"
      },
      "source": [
        "# **if statements**"
      ]
    },
    {
      "cell_type": "markdown",
      "metadata": {
        "id": "nauX0gTY3UTD"
      },
      "source": [
        "Several kinds of if statements exist. Your choice of which to use depends on the number of conditions you need to test. You can have as many elif block as you need, and the else block is always optional"
      ]
    },
    {
      "cell_type": "markdown",
      "metadata": {
        "id": "Hk7HZiQQ3WJy"
      },
      "source": [
        "***Simple if statement***"
      ]
    },
    {
      "cell_type": "code",
      "metadata": {
        "colab": {
          "base_uri": "https://localhost:8080/"
        },
        "id": "7CrNRhnz3ZIx",
        "outputId": "eff3c2c3-5f36-4048-a704-89c04dddabb3"
      },
      "source": [
        "age = 19\n",
        "\n",
        "if age >= 18:\n",
        "\tprint(\"You're old enough to vote!\")"
      ],
      "execution_count": 22,
      "outputs": [
        {
          "output_type": "stream",
          "name": "stdout",
          "text": [
            "You're old enough to vote!\n"
          ]
        }
      ]
    },
    {
      "cell_type": "markdown",
      "metadata": {
        "id": "uduaBSOA3axL"
      },
      "source": [
        "***if-else-statements***"
      ]
    },
    {
      "cell_type": "code",
      "metadata": {
        "colab": {
          "base_uri": "https://localhost:8080/"
        },
        "id": "W4ftgP4Q3h-C",
        "outputId": "825f7b02-bbf7-4b1d-ebf4-b85ff0aa391d"
      },
      "source": [
        "age = 17\n",
        "\n",
        "if age >= 18:\n",
        "\tprint(\"You're old enough to vote!\")\n",
        "else:\n",
        "\tprint(\"You can’t vote yet.\")"
      ],
      "execution_count": 23,
      "outputs": [
        {
          "output_type": "stream",
          "name": "stdout",
          "text": [
            "You can’t vote yet.\n"
          ]
        }
      ]
    },
    {
      "cell_type": "markdown",
      "metadata": {
        "id": "wKMAGde63lOn"
      },
      "source": [
        "# **Conditional test with list**"
      ]
    },
    {
      "cell_type": "markdown",
      "metadata": {
        "id": "KtvnaoYc3n5H"
      },
      "source": [
        "You can easily test whether a certain value is in a list. You can also test whether a list is empty before trying to loop through the list."
      ]
    },
    {
      "cell_type": "markdown",
      "metadata": {
        "id": "Na1XdAFF3qV3"
      },
      "source": [
        "***Testing if a value is in a list***"
      ]
    },
    {
      "cell_type": "code",
      "metadata": {
        "colab": {
          "base_uri": "https://localhost:8080/"
        },
        "id": "teFkGglM3uFo",
        "outputId": "f6877540-6c27-4f01-9c1c-6faf512cc73e"
      },
      "source": [
        "players = ['al', 'bea', 'cyn', 'dale']\n",
        "'al' in players "
      ],
      "execution_count": 24,
      "outputs": [
        {
          "output_type": "execute_result",
          "data": {
            "text/plain": [
              "True"
            ]
          },
          "metadata": {},
          "execution_count": 24
        }
      ]
    },
    {
      "cell_type": "code",
      "metadata": {
        "colab": {
          "base_uri": "https://localhost:8080/"
        },
        "id": "-piEEbNR3xVr",
        "outputId": "b7978ea3-5ff8-41d7-d10e-c84fbf41bbfc"
      },
      "source": [
        "players = ['al', 'bea', 'cyn', 'dale']\n",
        "'eric' in players"
      ],
      "execution_count": 25,
      "outputs": [
        {
          "output_type": "execute_result",
          "data": {
            "text/plain": [
              "False"
            ]
          },
          "metadata": {},
          "execution_count": 25
        }
      ]
    },
    {
      "cell_type": "markdown",
      "metadata": {
        "id": "tMFCxDa83qnO"
      },
      "source": [
        "***Conditional test with lists (cont.)***\n",
        "\n",
        "***Testing if a value is not in a list***"
      ]
    },
    {
      "cell_type": "code",
      "metadata": {
        "colab": {
          "base_uri": "https://localhost:8080/"
        },
        "id": "IB4iy0x14AkB",
        "outputId": "c21da6e8-9f33-403f-a5f0-360d5ad3410b"
      },
      "source": [
        "banned_users = ['ann', 'chad', 'dee'] \n",
        "user = 'erin' \n",
        "\n",
        "if user not in banned_users:     \n",
        "    print(\"You can play!\")"
      ],
      "execution_count": 26,
      "outputs": [
        {
          "output_type": "stream",
          "name": "stdout",
          "text": [
            "You can play!\n"
          ]
        }
      ]
    },
    {
      "cell_type": "markdown",
      "metadata": {
        "id": "PCdsdbT84EbF"
      },
      "source": [
        "# Checking if a list is empty"
      ]
    },
    {
      "cell_type": "code",
      "metadata": {
        "colab": {
          "base_uri": "https://localhost:8080/"
        },
        "id": "RiKLMm394G8a",
        "outputId": "ca17984c-7c4f-4f16-b6c3-8857815878ec"
      },
      "source": [
        "players = [] \n",
        "\n",
        "if players:     \n",
        "    for player in players:         \n",
        "        print(\"Player: \" + player.title()) \n",
        "else:     \n",
        "        print(\"We have no players yet!\") "
      ],
      "execution_count": 27,
      "outputs": [
        {
          "output_type": "stream",
          "name": "stdout",
          "text": [
            "We have no players yet!\n"
          ]
        }
      ]
    },
    {
      "cell_type": "markdown",
      "metadata": {
        "id": "y4-p5IKn4JX_"
      },
      "source": [
        "# **Accepting input**"
      ]
    },
    {
      "cell_type": "markdown",
      "metadata": {
        "id": "-1D_tW1j4PJ9"
      },
      "source": [
        "You can allow your users to enter input using the input() statement. In Python 3 all input is stored as a string"
      ]
    },
    {
      "cell_type": "markdown",
      "metadata": {
        "id": "vlKc8heE4RYb"
      },
      "source": [
        "## *Simple input*"
      ]
    },
    {
      "cell_type": "code",
      "metadata": {
        "colab": {
          "base_uri": "https://localhost:8080/"
        },
        "id": "HKwkW7NH4VZa",
        "outputId": "af2242ba-8332-4647-be72-ab7413854cd2"
      },
      "source": [
        "name = input(\"What’s your name? \")\n",
        "print(\"Hello, \"+ name + \".\")"
      ],
      "execution_count": 28,
      "outputs": [
        {
          "output_type": "stream",
          "name": "stdout",
          "text": [
            "What’s your name? Sheilta\n",
            "Hello, Sheilta.\n"
          ]
        }
      ]
    },
    {
      "cell_type": "markdown",
      "metadata": {
        "id": "ZNZ-YG-34XQb"
      },
      "source": [
        "## ***Accepting numerical input***"
      ]
    },
    {
      "cell_type": "code",
      "metadata": {
        "colab": {
          "base_uri": "https://localhost:8080/"
        },
        "id": "_yUHpwFV4fSb",
        "outputId": "fa7a65fa-1117-42eb-9ba9-9b406731c91c"
      },
      "source": [
        "age = input(\"How old are you? \")\n",
        "age = int(age)\n",
        "\n",
        "if age >= 18:\n",
        "\t\tprint(\"\\nYou can vote!\")\n",
        "else:\n",
        "\t\tprint(\"\\nYou can;t vote yet.\")"
      ],
      "execution_count": 29,
      "outputs": [
        {
          "output_type": "stream",
          "name": "stdout",
          "text": [
            "How old are you? 20\n",
            "\n",
            "You can vote!\n"
          ]
        }
      ]
    },
    {
      "cell_type": "markdown",
      "metadata": {
        "id": "pxKJG6_r4hp7"
      },
      "source": [
        "# **While loops**\n",
        "A while loop repeats a block of code as long as a condition is True\n",
        "\n",
        "## **Counting to 5**\n",
        "current_number = 1\n",
        "\n",
        "while current_number <= 5: print(current_number)\n",
        "current_number += 1\n",
        "\n",
        "### ***Letting the user choose when to quit***"
      ]
    },
    {
      "cell_type": "code",
      "metadata": {
        "colab": {
          "base_uri": "https://localhost:8080/"
        },
        "id": "DVE9L8dO4uGd",
        "outputId": "ae198c08-501b-4348-a5db-9596253b02c4"
      },
      "source": [
        "prompt = \"\\nTell me something, and I’ll \"\n",
        "prompt += \"\\rrepeat it back to you. \"\n",
        "prompt += \"\\nEnter ‘quit’ to end the program.\"\n",
        "\n",
        "message = \"\"\n",
        "while message != 'quit':\n",
        "    message = input(prompt)\n",
        "\n",
        "if message != 'quit':\n",
        "    print(message)"
      ],
      "execution_count": 30,
      "outputs": [
        {
          "name": "stdout",
          "output_type": "stream",
          "text": [
            "\n",
            "Tell me something, and I’ll \repeat it back to you. \n",
            "Enter ‘quit’ to end the program.Semangat\n",
            "\n",
            "epeat it back to you. \n",
            "Enter ‘quit’ to end the program.quit\n"
          ]
        }
      ]
    },
    {
      "cell_type": "markdown",
      "metadata": {
        "id": "ln4Jjq-H4wUq"
      },
      "source": [
        "## ***Using a flag***"
      ]
    },
    {
      "cell_type": "code",
      "metadata": {
        "colab": {
          "base_uri": "https://localhost:8080/"
        },
        "id": "roYGA1Df4z20",
        "outputId": "567cecff-5763-4357-d0c1-f91e52bd160a"
      },
      "source": [
        "prompt = \"\\nTell me something, and I’ll \"\n",
        "prompt += \"\\repeat it back to you. \"\n",
        "prompt += \"\\nEnter ‘quit’ to end the program.\"\n",
        "\n",
        "active = True\n",
        "while active:\n",
        "    message = input(prompt)\n",
        "    \n",
        "    if message == 'quit':\n",
        "        active = False\n",
        "    else:\n",
        "        print(message)"
      ],
      "execution_count": 31,
      "outputs": [
        {
          "name": "stdout",
          "output_type": "stream",
          "text": [
            "\n",
            "Tell me something, and I’ll \repeat it back to you. \n",
            "Enter ‘quit’ to end the program.quit\n"
          ]
        }
      ]
    },
    {
      "cell_type": "markdown",
      "metadata": {
        "id": "5fdZUGHI42xa"
      },
      "source": [
        "## ***Using break to exit a loop***"
      ]
    },
    {
      "cell_type": "code",
      "metadata": {
        "colab": {
          "base_uri": "https://localhost:8080/"
        },
        "id": "A3cnvGgT46_K",
        "outputId": "c47be378-a9f6-4795-d981-9b31a4a98cfd"
      },
      "source": [
        "prompt = \"\\nWhat cities have you visited\"\n",
        "prompt += \"\\nEnter ‘quit’ when you’re done. \"\n",
        "\n",
        "while True:\n",
        "    city = input(prompt)\n",
        "\n",
        "    if city == 'quit':\n",
        "        break \n",
        "    else:\n",
        "        print(\"I’ve been to \" + city + \"!\")"
      ],
      "execution_count": 32,
      "outputs": [
        {
          "name": "stdout",
          "output_type": "stream",
          "text": [
            "\n",
            "What cities have you visited\n",
            "Enter ‘quit’ when you’re done. Tokyo\n",
            "I’ve been to Tokyo!\n",
            "\n",
            "What cities have you visited\n",
            "Enter ‘quit’ when you’re done. quit\n"
          ]
        }
      ]
    }
  ]
}