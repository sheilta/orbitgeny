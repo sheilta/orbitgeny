{
  "nbformat": 4,
  "nbformat_minor": 0,
  "metadata": {
    "colab": {
      "name": "Vektorisasi Kata dan TF-IDF.ipynb",
      "provenance": [],
      "collapsed_sections": [],
      "include_colab_link": true
    },
    "kernelspec": {
      "name": "python3",
      "display_name": "Python 3"
    },
    "language_info": {
      "name": "python"
    }
  },
  "cells": [
    {
      "cell_type": "markdown",
      "metadata": {
        "id": "view-in-github",
        "colab_type": "text"
      },
      "source": [
        "<a href=\"https://colab.research.google.com/github/sheilta/orbitgeny/blob/main/Vektorisasi_Kata_dan_TF_IDF.ipynb\" target=\"_parent\"><img src=\"https://colab.research.google.com/assets/colab-badge.svg\" alt=\"Open In Colab\"/></a>"
      ]
    },
    {
      "cell_type": "code",
      "metadata": {
        "id": "RP6hW8NDVzaI"
      },
      "source": [
        "# Import Library yang dibutuhkan\n",
        "\n",
        "import nltk\n",
        "from nltk.tokenize import word_tokenize\n",
        "from gensim.models import Word2Vec\n",
        "import re"
      ],
      "execution_count": null,
      "outputs": []
    },
    {
      "cell_type": "code",
      "metadata": {
        "colab": {
          "base_uri": "https://localhost:8080/"
        },
        "id": "gKe7ZPUfmjYA",
        "outputId": "d57b6378-46a6-4a59-cd3e-638c8336f463"
      },
      "source": [
        "nltk.download('punkt')"
      ],
      "execution_count": null,
      "outputs": [
        {
          "output_type": "stream",
          "name": "stdout",
          "text": [
            "[nltk_data] Downloading package punkt to /root/nltk_data...\n",
            "[nltk_data]   Unzipping tokenizers/punkt.zip.\n"
          ]
        },
        {
          "output_type": "execute_result",
          "data": {
            "text/plain": [
              "True"
            ]
          },
          "metadata": {},
          "execution_count": 2
        }
      ]
    },
    {
      "cell_type": "code",
      "metadata": {
        "id": "rmfhSdxekrEh"
      },
      "source": [
        "komentar = [\n",
        "          \"Pengiriman cepat, kualitas produk baik, penjual ramah\",\n",
        "          \"Produk tidak sesuai gambar, tapi memang sesuai harga\",\n",
        "          \"penjual responsif dan ramah, produk berfungsi dengan baik\",\n",
        "          \"Lumayan untuk harga segini sudah dapat produk bagus\",\n",
        "          \"Tidak sesuai ekspektasi, produk berbeda dengan gambar\",\n",
        "          \"Sejauh ini yaaa lumayan sih, tidak berkespektasi tinggi, sesuai lah sama harga, tengkyuu\",\n",
        "          \"Barang cepat sampai dan sesuai pesanan Packing rapi dan harga recommended\",\n",
        "          \"Barang sdh diterima..packing aman...sampainya cepet...jenis dan jumlahnya sesuai pesenan..makase yah\",\n",
        "          \"seller ramah, tapi di pengirimanya lama\",\n",
        "          \"realpic,barang sesuai pesenan..terimakasih seller,sukses terus..\",\n",
        "          \"Barang bagus aku sering beli produk ini..yamagata okeee..\",\n",
        "          \"seller gak responsif, ga sesuai gambar\",\n",
        "          \"barang ok, kualitas ok\",\n",
        "          \"harga sesuai sama barangnya, not bad lah\",\n",
        "          \"wajar sih ada harga, ada barang\",\n",
        "          \"mantap, kualitas ok sesuai pic\",\n",
        "          \"recommended pokoknya\",\n",
        "          \"kualitas ok, seller ramah, pengiriman cepat\",\n",
        "          \"toko nya gak recommended, seller kurang responsif\",\n",
        "          \"ok barangnya, recommended sellernya\"\n",
        "\n",
        "\n",
        "]"
      ],
      "execution_count": null,
      "outputs": []
    },
    {
      "cell_type": "code",
      "metadata": {
        "colab": {
          "base_uri": "https://localhost:8080/"
        },
        "id": "QX4OeAmEmsdL",
        "outputId": "5e9e2b6f-215c-4ecd-e01e-3ef907a4c5d9"
      },
      "source": [
        "komentar = [re.sub(r'[,.]', '', k) for k in komentar]\n",
        "komentar"
      ],
      "execution_count": null,
      "outputs": [
        {
          "output_type": "execute_result",
          "data": {
            "text/plain": [
              "['Pengiriman cepat kualitas produk baik penjual ramah',\n",
              " 'Produk tidak sesuai gambar tapi memang sesuai harga',\n",
              " 'penjual responsif dan ramah produk berfungsi dengan baik',\n",
              " 'Lumayan untuk harga segini sudah dapat produk bagus',\n",
              " 'Tidak sesuai ekspektasi produk berbeda dengan gambar',\n",
              " 'Sejauh ini yaaa lumayan sih tidak berkespektasi tinggi sesuai lah sama harga tengkyuu',\n",
              " 'Barang cepat sampai dan sesuai pesanan Packing rapi dan harga recommended',\n",
              " 'Barang sdh diterimapacking amansampainya cepetjenis dan jumlahnya sesuai pesenanmakase yah',\n",
              " 'seller ramah tapi di pengirimanya lama',\n",
              " 'realpicbarang sesuai pesenanterimakasih sellersukses terus',\n",
              " 'Barang bagus aku sering beli produk iniyamagata okeee',\n",
              " 'seller gak responsif ga sesuai gambar',\n",
              " 'barang ok kualitas ok',\n",
              " 'harga sesuai sama barangnya not bad lah',\n",
              " 'wajar sih ada harga ada barang',\n",
              " 'mantap kualitas ok sesuai pic',\n",
              " 'recommended pokoknya',\n",
              " 'kualitas ok seller ramah pengiriman cepat',\n",
              " 'toko nya gak recommended seller kurang responsif',\n",
              " 'ok barangnya recommended sellernya']"
            ]
          },
          "metadata": {},
          "execution_count": 23
        }
      ]
    },
    {
      "cell_type": "code",
      "metadata": {
        "colab": {
          "base_uri": "https://localhost:8080/"
        },
        "id": "KJPae-LBmH3N",
        "outputId": "ade84110-b258-4d6c-c15a-f88463487132"
      },
      "source": [
        "corpus = [word_tokenize(k.lower()) for k in komentar]\n",
        "corpus"
      ],
      "execution_count": null,
      "outputs": [
        {
          "output_type": "execute_result",
          "data": {
            "text/plain": [
              "[['pengiriman', 'cepat', 'kualitas', 'produk', 'baik', 'penjual', 'ramah'],\n",
              " ['produk', 'tidak', 'sesuai', 'gambar', 'tapi', 'memang', 'sesuai', 'harga'],\n",
              " ['penjual',\n",
              "  'responsif',\n",
              "  'dan',\n",
              "  'ramah',\n",
              "  'produk',\n",
              "  'berfungsi',\n",
              "  'dengan',\n",
              "  'baik'],\n",
              " ['lumayan', 'untuk', 'harga', 'segini', 'sudah', 'dapat', 'produk', 'bagus'],\n",
              " ['tidak', 'sesuai', 'ekspektasi', 'produk', 'berbeda', 'dengan', 'gambar'],\n",
              " ['sejauh',\n",
              "  'ini',\n",
              "  'yaaa',\n",
              "  'lumayan',\n",
              "  'sih',\n",
              "  'tidak',\n",
              "  'berkespektasi',\n",
              "  'tinggi',\n",
              "  'sesuai',\n",
              "  'lah',\n",
              "  'sama',\n",
              "  'harga',\n",
              "  'tengkyuu'],\n",
              " ['barang',\n",
              "  'cepat',\n",
              "  'sampai',\n",
              "  'dan',\n",
              "  'sesuai',\n",
              "  'pesanan',\n",
              "  'packing',\n",
              "  'rapi',\n",
              "  'dan',\n",
              "  'harga',\n",
              "  'recommended'],\n",
              " ['barang',\n",
              "  'sdh',\n",
              "  'diterimapacking',\n",
              "  'amansampainya',\n",
              "  'cepetjenis',\n",
              "  'dan',\n",
              "  'jumlahnya',\n",
              "  'sesuai',\n",
              "  'pesenanmakase',\n",
              "  'yah'],\n",
              " ['seller', 'ramah', 'tapi', 'di', 'pengirimanya', 'lama'],\n",
              " ['realpicbarang', 'sesuai', 'pesenanterimakasih', 'sellersukses', 'terus'],\n",
              " ['barang',\n",
              "  'bagus',\n",
              "  'aku',\n",
              "  'sering',\n",
              "  'beli',\n",
              "  'produk',\n",
              "  'iniyamagata',\n",
              "  'okeee'],\n",
              " ['seller', 'gak', 'responsif', 'ga', 'sesuai', 'gambar'],\n",
              " ['barang', 'ok', 'kualitas', 'ok'],\n",
              " ['harga', 'sesuai', 'sama', 'barangnya', 'not', 'bad', 'lah'],\n",
              " ['wajar', 'sih', 'ada', 'harga', 'ada', 'barang'],\n",
              " ['mantap', 'kualitas', 'ok', 'sesuai', 'pic'],\n",
              " ['recommended', 'pokoknya'],\n",
              " ['kualitas', 'ok', 'seller', 'ramah', 'pengiriman', 'cepat'],\n",
              " ['toko', 'nya', 'gak', 'recommended', 'seller', 'kurang', 'responsif'],\n",
              " ['ok', 'barangnya', 'recommended', 'sellernya']]"
            ]
          },
          "metadata": {},
          "execution_count": 24
        }
      ]
    },
    {
      "cell_type": "markdown",
      "metadata": {
        "id": "ilqs6oh8nJyx"
      },
      "source": [
        "## Train Word2Vec Model"
      ]
    },
    {
      "cell_type": "code",
      "metadata": {
        "id": "Zr3eUJ0Tmfmt"
      },
      "source": [
        "model = Word2Vec(corpus, size=100, window=5, workers=2, min_count=1, iter=100)\n"
      ],
      "execution_count": null,
      "outputs": []
    },
    {
      "cell_type": "markdown",
      "metadata": {
        "id": "W3GOj9NDobAK"
      },
      "source": [
        "## Menyimpan model"
      ]
    },
    {
      "cell_type": "code",
      "metadata": {
        "id": "4me7Ne3gn3OM"
      },
      "source": [
        "model.save(\"komentar_app.w2v\")"
      ],
      "execution_count": null,
      "outputs": []
    },
    {
      "cell_type": "markdown",
      "metadata": {
        "id": "6_RJ3olWocLH"
      },
      "source": [
        "## Load Model\n",
        "> Menggunakan pretrained model (model yang sudah dibuat sebelumnya)"
      ]
    },
    {
      "cell_type": "code",
      "metadata": {
        "id": "LIRAsG-Jn9Hn"
      },
      "source": [
        "model = Word2Vec.load(\"komentar_app.w2v\")\n"
      ],
      "execution_count": null,
      "outputs": []
    },
    {
      "cell_type": "markdown",
      "metadata": {
        "id": "X6jijQCcorCg"
      },
      "source": [
        "## Menampilkan Informasi dari Model yang Sudah Dibuat"
      ]
    },
    {
      "cell_type": "code",
      "metadata": {
        "id": "XCc72C54ot_w"
      },
      "source": [
        "# model.wv adalah Word Vector dari Model yang sudah dibuat\n",
        "w2v = model.wv"
      ],
      "execution_count": null,
      "outputs": []
    },
    {
      "cell_type": "code",
      "metadata": {
        "colab": {
          "base_uri": "https://localhost:8080/"
        },
        "id": "ZKrvWt9Io422",
        "outputId": "2f38b8a5-c3f1-4f3b-a640-5dae7e16c08e"
      },
      "source": [
        "# Menampilkan semua vocabulary yang sudah di-train\n",
        "w2v.index2word"
      ],
      "execution_count": null,
      "outputs": [
        {
          "output_type": "execute_result",
          "data": {
            "text/plain": [
              "['sesuai',\n",
              " 'produk',\n",
              " 'harga',\n",
              " 'barang',\n",
              " 'ok',\n",
              " 'kualitas',\n",
              " 'ramah',\n",
              " 'dan',\n",
              " 'recommended',\n",
              " 'seller',\n",
              " 'cepat',\n",
              " 'tidak',\n",
              " 'gambar',\n",
              " 'responsif',\n",
              " 'pengiriman',\n",
              " 'baik',\n",
              " 'penjual',\n",
              " 'tapi',\n",
              " 'dengan',\n",
              " 'lumayan',\n",
              " 'bagus',\n",
              " 'sih',\n",
              " 'lah',\n",
              " 'sama',\n",
              " 'gak',\n",
              " 'barangnya',\n",
              " 'ada',\n",
              " 'memang',\n",
              " 'berfungsi',\n",
              " 'untuk',\n",
              " 'segini',\n",
              " 'sudah',\n",
              " 'dapat',\n",
              " 'ekspektasi',\n",
              " 'berbeda',\n",
              " 'sejauh',\n",
              " 'ini',\n",
              " 'yaaa',\n",
              " 'berkespektasi',\n",
              " 'tinggi',\n",
              " 'tengkyuu',\n",
              " 'sampai',\n",
              " 'pesanan',\n",
              " 'packing',\n",
              " 'rapi',\n",
              " 'sdh',\n",
              " 'diterimapacking',\n",
              " 'amansampainya',\n",
              " 'cepetjenis',\n",
              " 'jumlahnya',\n",
              " 'pesenanmakase',\n",
              " 'yah',\n",
              " 'di',\n",
              " 'pengirimanya',\n",
              " 'lama',\n",
              " 'realpicbarang',\n",
              " 'pesenanterimakasih',\n",
              " 'sellersukses',\n",
              " 'terus',\n",
              " 'aku',\n",
              " 'sering',\n",
              " 'beli',\n",
              " 'iniyamagata',\n",
              " 'okeee',\n",
              " 'ga',\n",
              " 'not',\n",
              " 'bad',\n",
              " 'wajar',\n",
              " 'mantap',\n",
              " 'pic',\n",
              " 'pokoknya',\n",
              " 'toko',\n",
              " 'nya',\n",
              " 'kurang',\n",
              " 'sellernya']"
            ]
          },
          "metadata": {},
          "execution_count": 29
        }
      ]
    },
    {
      "cell_type": "code",
      "metadata": {
        "colab": {
          "base_uri": "https://localhost:8080/"
        },
        "id": "cINrhrKWpDwK",
        "outputId": "b98d275a-dbe0-40a3-8b26-196f46d4fcf1"
      },
      "source": [
        "# Menampilkan vector yang sudah dibuat dari dokumen teks\n",
        "w2v.vectors"
      ],
      "execution_count": null,
      "outputs": [
        {
          "output_type": "execute_result",
          "data": {
            "text/plain": [
              "array([[-0.0033935 , -0.00546195, -0.00431222, ..., -0.0131173 ,\n",
              "         0.00423625,  0.00672517],\n",
              "       [ 0.00181563, -0.00453517, -0.00477041, ..., -0.00586227,\n",
              "         0.00512502, -0.00052052],\n",
              "       [-0.00290836, -0.00063326, -0.002603  , ..., -0.00960077,\n",
              "         0.00449309,  0.00599885],\n",
              "       ...,\n",
              "       [-0.00657629, -0.00072848,  0.00232657, ...,  0.00063467,\n",
              "        -0.0013022 ,  0.00065149],\n",
              "       [ 0.00154157, -0.0014097 , -0.00121567, ..., -0.00726971,\n",
              "         0.0006339 ,  0.00562691],\n",
              "       [-0.00515866, -0.00194104,  0.00149814, ..., -0.00430461,\n",
              "        -0.00018846, -0.00331338]], dtype=float32)"
            ]
          },
          "metadata": {},
          "execution_count": 30
        }
      ]
    },
    {
      "cell_type": "code",
      "metadata": {
        "colab": {
          "base_uri": "https://localhost:8080/"
        },
        "id": "lyQPHKDQpfLi",
        "outputId": "9021be7e-b250-49f6-bca5-5afaae910ec2"
      },
      "source": [
        "# Menampilkan ukuran vektor\n",
        "w2v.vector_size"
      ],
      "execution_count": null,
      "outputs": [
        {
          "output_type": "execute_result",
          "data": {
            "text/plain": [
              "100"
            ]
          },
          "metadata": {},
          "execution_count": 31
        }
      ]
    },
    {
      "cell_type": "code",
      "metadata": {
        "colab": {
          "base_uri": "https://localhost:8080/"
        },
        "id": "u1htiGu_p36V",
        "outputId": "ceabd833-62a7-4229-8d68-7521b948c7de"
      },
      "source": [
        "# Menampilkan vektor kata yang terdapat pada vocabulary\n",
        "w2v['berbeda']"
      ],
      "execution_count": null,
      "outputs": [
        {
          "output_type": "execute_result",
          "data": {
            "text/plain": [
              "array([-3.0358026e-03,  2.2202723e-03,  4.0006540e-03,  3.3775152e-04,\n",
              "       -1.7173712e-03, -2.1794064e-03,  6.4460752e-03, -4.3545864e-03,\n",
              "        6.1579118e-04, -7.3927554e-04,  9.3750888e-04,  6.7369076e-03,\n",
              "       -2.0893286e-03, -2.5839768e-03,  8.4778655e-04, -4.0263371e-03,\n",
              "        4.5883199e-03, -6.0357730e-04, -1.0889176e-03,  2.1886835e-03,\n",
              "        4.7446014e-03, -3.8298024e-03, -4.1108164e-03, -4.1754325e-03,\n",
              "       -1.5257383e-03,  3.1876543e-03,  1.5436038e-03, -6.8653969e-04,\n",
              "       -1.3218898e-03, -2.7169723e-03, -1.1831069e-03,  1.2175258e-03,\n",
              "        4.7502681e-03, -2.6998725e-03,  1.4462331e-03,  1.0994412e-03,\n",
              "        1.5027745e-03, -1.9463681e-03,  4.5234840e-03,  7.6808262e-04,\n",
              "        4.7719683e-03,  2.0262024e-03,  2.6284389e-03,  6.0558721e-04,\n",
              "       -3.3912722e-03,  3.9790436e-03, -2.1659434e-03, -1.7001649e-03,\n",
              "        3.5356770e-03, -3.9067375e-03, -9.3912712e-04,  1.3970817e-03,\n",
              "        3.3178125e-04, -4.3452815e-03,  3.1815136e-03,  9.4948872e-04,\n",
              "        3.5613631e-03,  5.4874071e-03, -1.9311475e-03,  5.0468245e-03,\n",
              "       -3.1183828e-03, -2.8747024e-03, -3.1801080e-03,  3.8728406e-04,\n",
              "        1.8865058e-03, -2.9868816e-03, -4.5541092e-03,  2.6528037e-03,\n",
              "       -1.1716055e-03,  1.5989533e-03,  3.8870554e-03,  3.9729062e-03,\n",
              "        4.8801266e-03,  5.9052552e-05, -3.2310965e-03, -7.3531893e-04,\n",
              "       -3.5959049e-03,  5.8276770e-03,  4.2335168e-03,  2.8991306e-03,\n",
              "        1.8042371e-03, -2.2374347e-03,  2.6615451e-03, -4.2504058e-03,\n",
              "       -7.9344463e-04,  2.0628166e-03, -2.2636375e-03,  2.0245216e-03,\n",
              "       -2.6692834e-03,  1.5466100e-04,  8.6063630e-04,  2.4629836e-03,\n",
              "        4.1627395e-03, -9.8094577e-04,  3.8246894e-03,  7.6566619e-04,\n",
              "       -1.8219529e-04, -6.1935023e-03,  3.3492264e-03, -3.0817101e-03],\n",
              "      dtype=float32)"
            ]
          },
          "metadata": {},
          "execution_count": 32
        }
      ]
    },
    {
      "cell_type": "markdown",
      "metadata": {
        "id": "TPklgZ0AqX4O"
      },
      "source": [
        "## Sanity Check\n",
        "> Untuk mengetahui apakah model yang sudah kita train sudah memiliki makna atau masih perlu dilakukan training lanjutan"
      ]
    },
    {
      "cell_type": "markdown",
      "metadata": {
        "id": "LYb7IP93qin1"
      },
      "source": [
        "### Similar Word"
      ]
    },
    {
      "cell_type": "code",
      "metadata": {
        "colab": {
          "base_uri": "https://localhost:8080/"
        },
        "id": "-0xUDnlFp-6n",
        "outputId": "0d034a2a-b9a2-4b22-e2dd-1b7c57207384"
      },
      "source": [
        "# Menampilkan kata yang memiliki kemiripan makna dengan kata `produk`\n",
        "# atau dalam kata lain yaitu melihat hubungan semantik dari kata `produk` dengan kata lainnya.\n",
        "w2v.similar_by_word(\"produk\", topn=5)"
      ],
      "execution_count": null,
      "outputs": [
        {
          "output_type": "execute_result",
          "data": {
            "text/plain": [
              "[('sesuai', 0.6640394330024719),\n",
              " ('dan', 0.6494487524032593),\n",
              " ('harga', 0.6113717555999756),\n",
              " ('bagus', 0.563032865524292),\n",
              " ('responsif', 0.5560604333877563)]"
            ]
          },
          "metadata": {},
          "execution_count": 33
        }
      ]
    },
    {
      "cell_type": "markdown",
      "metadata": {
        "id": "AZ7e5HNHte2X"
      },
      "source": [
        "---"
      ]
    },
    {
      "cell_type": "markdown",
      "metadata": {
        "id": "4VvPSHL9tawr"
      },
      "source": [
        "## TF-IDF"
      ]
    },
    {
      "cell_type": "code",
      "metadata": {
        "colab": {
          "base_uri": "https://localhost:8080/"
        },
        "id": "AEnPHEPH1uzL",
        "outputId": "a4e58dcb-6231-430a-c04f-e7469e7356c2"
      },
      "source": [
        "# Menggunakan dataset yang sama seperti pada Word2vec. \n",
        "komentar"
      ],
      "execution_count": null,
      "outputs": [
        {
          "output_type": "execute_result",
          "data": {
            "text/plain": [
              "['Pengiriman cepat kualitas produk baik penjual ramah',\n",
              " 'Produk tidak sesuai gambar tapi memang sesuai harga',\n",
              " 'penjual responsif dan ramah produk berfungsi dengan baik',\n",
              " 'Lumayan untuk harga segini sudah dapat produk bagus',\n",
              " 'Tidak sesuai ekspektasi produk berbeda dengan gambar',\n",
              " 'Sejauh ini yaaa lumayan sih tidak berkespektasi tinggi sesuai lah sama harga tengkyuu',\n",
              " 'Barang cepat sampai dan sesuai pesanan Packing rapi dan harga recommended',\n",
              " 'Barang sdh diterimapacking amansampainya cepetjenis dan jumlahnya sesuai pesenanmakase yah',\n",
              " 'seller ramah tapi di pengirimanya lama',\n",
              " 'realpicbarang sesuai pesenanterimakasih sellersukses terus',\n",
              " 'Barang bagus aku sering beli produk iniyamagata okeee',\n",
              " 'seller gak responsif ga sesuai gambar',\n",
              " 'barang ok kualitas ok',\n",
              " 'harga sesuai sama barangnya not bad lah',\n",
              " 'wajar sih ada harga ada barang',\n",
              " 'mantap kualitas ok sesuai pic',\n",
              " 'recommended pokoknya',\n",
              " 'kualitas ok seller ramah pengiriman cepat',\n",
              " 'toko nya gak recommended seller kurang responsif',\n",
              " 'ok barangnya recommended sellernya']"
            ]
          },
          "metadata": {},
          "execution_count": 34
        }
      ]
    },
    {
      "cell_type": "code",
      "metadata": {
        "id": "DYJzS0h9shOE"
      },
      "source": [
        "# Import Library yang dibutuhkan\n",
        "from sklearn.feature_extraction.text import TfidfVectorizer\n",
        "import pandas as pd\n",
        "\n",
        "\n",
        "vectorizer = TfidfVectorizer()\n",
        "result = vectorizer.fit_transform(komentar) #tfidf"
      ],
      "execution_count": null,
      "outputs": []
    },
    {
      "cell_type": "code",
      "metadata": {
        "colab": {
          "base_uri": "https://localhost:8080/"
        },
        "id": "Ev0sewgU15Be",
        "outputId": "248cdf9e-712f-426f-9a4d-7fe81eb90cd4"
      },
      "source": [
        "# Menampilkan nama fitur / token dari dataset\n",
        "print(vectorizer.get_feature_names())"
      ],
      "execution_count": null,
      "outputs": [
        {
          "output_type": "stream",
          "name": "stdout",
          "text": [
            "['ada', 'aku', 'amansampainya', 'bad', 'bagus', 'baik', 'barang', 'barangnya', 'beli', 'berbeda', 'berfungsi', 'berkespektasi', 'cepat', 'cepetjenis', 'dan', 'dapat', 'dengan', 'di', 'diterimapacking', 'ekspektasi', 'ga', 'gak', 'gambar', 'harga', 'ini', 'iniyamagata', 'jumlahnya', 'kualitas', 'kurang', 'lah', 'lama', 'lumayan', 'mantap', 'memang', 'not', 'nya', 'ok', 'okeee', 'packing', 'pengiriman', 'pengirimanya', 'penjual', 'pesanan', 'pesenanmakase', 'pesenanterimakasih', 'pic', 'pokoknya', 'produk', 'ramah', 'rapi', 'realpicbarang', 'recommended', 'responsif', 'sama', 'sampai', 'sdh', 'segini', 'sejauh', 'seller', 'sellernya', 'sellersukses', 'sering', 'sesuai', 'sih', 'sudah', 'tapi', 'tengkyuu', 'terus', 'tidak', 'tinggi', 'toko', 'untuk', 'wajar', 'yaaa', 'yah']\n"
          ]
        }
      ]
    },
    {
      "cell_type": "code",
      "metadata": {
        "colab": {
          "base_uri": "https://localhost:8080/"
        },
        "id": "zKAohjpG10w5",
        "outputId": "1e3919fe-d346-4f24-fd6c-5ef613b0a55d"
      },
      "source": [
        "# Menampilkan hasil vektor kata\n",
        "print(result)"
      ],
      "execution_count": null,
      "outputs": [
        {
          "output_type": "stream",
          "name": "stdout",
          "text": [
            "  (0, 48)\t0.3465815374891616\n",
            "  (0, 41)\t0.41928650039086696\n",
            "  (0, 5)\t0.41928650039086696\n",
            "  (0, 47)\t0.29869200269909457\n",
            "  (0, 27)\t0.3465815374891616\n",
            "  (0, 12)\t0.37834118866023614\n",
            "  (0, 39)\t0.41928650039086696\n",
            "  (1, 23)\t0.28300722075106505\n",
            "  (1, 33)\t0.45194789068240265\n",
            "  (1, 65)\t0.39726911367493173\n",
            "  (1, 22)\t0.35847390399084283\n",
            "  (1, 62)\t0.469816029684285\n",
            "  (1, 68)\t0.35847390399084283\n",
            "  (1, 47)\t0.28300722075106505\n",
            "  (2, 16)\t0.3749390439666552\n",
            "  (2, 10)\t0.42654438571296155\n",
            "  (2, 14)\t0.3383244713036003\n",
            "  (2, 52)\t0.3383244713036003\n",
            "  (2, 48)\t0.3099240023266685\n",
            "  (2, 41)\t0.3749390439666552\n",
            "  (2, 5)\t0.3749390439666552\n",
            "  (2, 47)\t0.26709968918170196\n",
            "  (3, 4)\t0.34938895927010233\n",
            "  (3, 15)\t0.39747767378425\n",
            "  (3, 64)\t0.39747767378425\n",
            "  :\t:\n",
            "  (14, 23)\t0.2434393668525939\n",
            "  (15, 45)\t0.5483233810014905\n",
            "  (15, 32)\t0.5483233810014905\n",
            "  (15, 36)\t0.39840772145019154\n",
            "  (15, 62)\t0.2850009029317661\n",
            "  (15, 27)\t0.39840772145019154\n",
            "  (16, 46)\t0.8089977238779507\n",
            "  (16, 51)\t0.5878117749418559\n",
            "  (17, 36)\t0.3876308990254831\n",
            "  (17, 58)\t0.3876308990254831\n",
            "  (17, 48)\t0.3876308990254831\n",
            "  (17, 27)\t0.3876308990254831\n",
            "  (17, 12)\t0.4231521856622946\n",
            "  (17, 39)\t0.46894708896847387\n",
            "  (18, 28)\t0.42805188921603476\n",
            "  (18, 35)\t0.42805188921603476\n",
            "  (18, 70)\t0.42805188921603476\n",
            "  (18, 21)\t0.3762641626205414\n",
            "  (18, 58)\t0.31101934324508895\n",
            "  (18, 51)\t0.31101934324508895\n",
            "  (18, 52)\t0.33952018584761684\n",
            "  (19, 59)\t0.5945915275476735\n",
            "  (19, 7)\t0.5226550538621318\n",
            "  (19, 36)\t0.43202581522456274\n",
            "  (19, 51)\t0.43202581522456274\n"
          ]
        }
      ]
    },
    {
      "cell_type": "markdown",
      "metadata": {
        "id": "gvtQRTZX8Llu"
      },
      "source": [
        "**(4, 16)\t0.21680124922897376**\n",
        "Artinya:\n",
        "> Terdapat kata dengan index ke-16 pada `vectorizer.get_feature_names()` dalam dokumen ke-5 (index dari nol)\n",
        ">\n",
        "> dengan bobot TF-IDF 0.21680124922897376"
      ]
    },
    {
      "cell_type": "code",
      "metadata": {
        "colab": {
          "base_uri": "https://localhost:8080/"
        },
        "id": "Cx-59-0B8POw",
        "outputId": "5384bdc7-675f-43c1-a549-beb1d2531212"
      },
      "source": [
        "print(f\"Teks dokumen ke-{4+1}:\\n{komentar[4]}\")\n",
        "print(f\"Fitur Name ke-16: {vectorizer.get_feature_names()[16]}\")"
      ],
      "execution_count": null,
      "outputs": [
        {
          "output_type": "stream",
          "name": "stdout",
          "text": [
            "Teks dokumen ke-5:\n",
            "Tidak sesuai ekspektasi produk berbeda dengan gambar\n",
            "Fitur Name ke-16: dengan\n"
          ]
        }
      ]
    },
    {
      "cell_type": "markdown",
      "metadata": {
        "id": "QDZxrB4p8STH"
      },
      "source": [
        "> Dapat diketahui bahwa di dalam dokumen ke-1 (index ke-0) terdapat kata produk"
      ]
    },
    {
      "cell_type": "code",
      "metadata": {
        "colab": {
          "base_uri": "https://localhost:8080/"
        },
        "id": "SDBhuCu-2V7Z",
        "outputId": "deb62f75-eb73-4c60-8f11-374f6c3b6d4d"
      },
      "source": [
        "# Menampilkan hasil TF-IDF dalam bentuk list dua dimensi\n",
        "result.todense()"
      ],
      "execution_count": null,
      "outputs": [
        {
          "output_type": "execute_result",
          "data": {
            "text/plain": [
              "matrix([[0., 0., 0., ..., 0., 0., 0.],\n",
              "        [0., 0., 0., ..., 0., 0., 0.],\n",
              "        [0., 0., 0., ..., 0., 0., 0.],\n",
              "        ...,\n",
              "        [0., 0., 0., ..., 0., 0., 0.],\n",
              "        [0., 0., 0., ..., 0., 0., 0.],\n",
              "        [0., 0., 0., ..., 0., 0., 0.]])"
            ]
          },
          "metadata": {},
          "execution_count": 39
        }
      ]
    },
    {
      "cell_type": "code",
      "metadata": {
        "colab": {
          "base_uri": "https://localhost:8080/",
          "height": 414
        },
        "id": "9j2RVkIb2ZkT",
        "outputId": "adb45084-919b-4692-c89c-a2c87be713c2"
      },
      "source": [
        "# Membuat dataframe dari list dua dimensi tersebut. \n",
        "# Dilakukan transpose agar nama kolom berubah menjadi nama baris\n",
        "# Nama kolom diubah menjadi urutan dokumen\n",
        "df = pd.DataFrame(result.todense().T,\n",
        "                  index=vectorizer.get_feature_names(),\n",
        "                  columns=[f\"D{i+1}\" for i in range(len(komentar))])\n",
        "df"
      ],
      "execution_count": null,
      "outputs": [
        {
          "output_type": "execute_result",
          "data": {
            "text/html": [
              "<div>\n",
              "<style scoped>\n",
              "    .dataframe tbody tr th:only-of-type {\n",
              "        vertical-align: middle;\n",
              "    }\n",
              "\n",
              "    .dataframe tbody tr th {\n",
              "        vertical-align: top;\n",
              "    }\n",
              "\n",
              "    .dataframe thead th {\n",
              "        text-align: right;\n",
              "    }\n",
              "</style>\n",
              "<table border=\"1\" class=\"dataframe\">\n",
              "  <thead>\n",
              "    <tr style=\"text-align: right;\">\n",
              "      <th></th>\n",
              "      <th>D1</th>\n",
              "      <th>D2</th>\n",
              "      <th>D3</th>\n",
              "      <th>D4</th>\n",
              "      <th>D5</th>\n",
              "      <th>D6</th>\n",
              "      <th>D7</th>\n",
              "      <th>D8</th>\n",
              "      <th>D9</th>\n",
              "      <th>D10</th>\n",
              "      <th>D11</th>\n",
              "      <th>D12</th>\n",
              "      <th>D13</th>\n",
              "      <th>D14</th>\n",
              "      <th>D15</th>\n",
              "      <th>D16</th>\n",
              "      <th>D17</th>\n",
              "      <th>D18</th>\n",
              "      <th>D19</th>\n",
              "      <th>D20</th>\n",
              "    </tr>\n",
              "  </thead>\n",
              "  <tbody>\n",
              "    <tr>\n",
              "      <th>ada</th>\n",
              "      <td>0.0</td>\n",
              "      <td>0.0</td>\n",
              "      <td>0.0</td>\n",
              "      <td>0.000000</td>\n",
              "      <td>0.0</td>\n",
              "      <td>0.000000</td>\n",
              "      <td>0.0</td>\n",
              "      <td>0.000000</td>\n",
              "      <td>0.0</td>\n",
              "      <td>0.0</td>\n",
              "      <td>0.000000</td>\n",
              "      <td>0.0</td>\n",
              "      <td>0.0</td>\n",
              "      <td>0.000000</td>\n",
              "      <td>0.77752</td>\n",
              "      <td>0.0</td>\n",
              "      <td>0.0</td>\n",
              "      <td>0.0</td>\n",
              "      <td>0.000000</td>\n",
              "      <td>0.0</td>\n",
              "    </tr>\n",
              "    <tr>\n",
              "      <th>aku</th>\n",
              "      <td>0.0</td>\n",
              "      <td>0.0</td>\n",
              "      <td>0.0</td>\n",
              "      <td>0.000000</td>\n",
              "      <td>0.0</td>\n",
              "      <td>0.000000</td>\n",
              "      <td>0.0</td>\n",
              "      <td>0.000000</td>\n",
              "      <td>0.0</td>\n",
              "      <td>0.0</td>\n",
              "      <td>0.388760</td>\n",
              "      <td>0.0</td>\n",
              "      <td>0.0</td>\n",
              "      <td>0.000000</td>\n",
              "      <td>0.00000</td>\n",
              "      <td>0.0</td>\n",
              "      <td>0.0</td>\n",
              "      <td>0.0</td>\n",
              "      <td>0.000000</td>\n",
              "      <td>0.0</td>\n",
              "    </tr>\n",
              "    <tr>\n",
              "      <th>amansampainya</th>\n",
              "      <td>0.0</td>\n",
              "      <td>0.0</td>\n",
              "      <td>0.0</td>\n",
              "      <td>0.000000</td>\n",
              "      <td>0.0</td>\n",
              "      <td>0.000000</td>\n",
              "      <td>0.0</td>\n",
              "      <td>0.346041</td>\n",
              "      <td>0.0</td>\n",
              "      <td>0.0</td>\n",
              "      <td>0.000000</td>\n",
              "      <td>0.0</td>\n",
              "      <td>0.0</td>\n",
              "      <td>0.000000</td>\n",
              "      <td>0.00000</td>\n",
              "      <td>0.0</td>\n",
              "      <td>0.0</td>\n",
              "      <td>0.0</td>\n",
              "      <td>0.000000</td>\n",
              "      <td>0.0</td>\n",
              "    </tr>\n",
              "    <tr>\n",
              "      <th>bad</th>\n",
              "      <td>0.0</td>\n",
              "      <td>0.0</td>\n",
              "      <td>0.0</td>\n",
              "      <td>0.000000</td>\n",
              "      <td>0.0</td>\n",
              "      <td>0.000000</td>\n",
              "      <td>0.0</td>\n",
              "      <td>0.000000</td>\n",
              "      <td>0.0</td>\n",
              "      <td>0.0</td>\n",
              "      <td>0.000000</td>\n",
              "      <td>0.0</td>\n",
              "      <td>0.0</td>\n",
              "      <td>0.448098</td>\n",
              "      <td>0.00000</td>\n",
              "      <td>0.0</td>\n",
              "      <td>0.0</td>\n",
              "      <td>0.0</td>\n",
              "      <td>0.000000</td>\n",
              "      <td>0.0</td>\n",
              "    </tr>\n",
              "    <tr>\n",
              "      <th>bagus</th>\n",
              "      <td>0.0</td>\n",
              "      <td>0.0</td>\n",
              "      <td>0.0</td>\n",
              "      <td>0.349389</td>\n",
              "      <td>0.0</td>\n",
              "      <td>0.000000</td>\n",
              "      <td>0.0</td>\n",
              "      <td>0.000000</td>\n",
              "      <td>0.0</td>\n",
              "      <td>0.0</td>\n",
              "      <td>0.341726</td>\n",
              "      <td>0.0</td>\n",
              "      <td>0.0</td>\n",
              "      <td>0.000000</td>\n",
              "      <td>0.00000</td>\n",
              "      <td>0.0</td>\n",
              "      <td>0.0</td>\n",
              "      <td>0.0</td>\n",
              "      <td>0.000000</td>\n",
              "      <td>0.0</td>\n",
              "    </tr>\n",
              "    <tr>\n",
              "      <th>...</th>\n",
              "      <td>...</td>\n",
              "      <td>...</td>\n",
              "      <td>...</td>\n",
              "      <td>...</td>\n",
              "      <td>...</td>\n",
              "      <td>...</td>\n",
              "      <td>...</td>\n",
              "      <td>...</td>\n",
              "      <td>...</td>\n",
              "      <td>...</td>\n",
              "      <td>...</td>\n",
              "      <td>...</td>\n",
              "      <td>...</td>\n",
              "      <td>...</td>\n",
              "      <td>...</td>\n",
              "      <td>...</td>\n",
              "      <td>...</td>\n",
              "      <td>...</td>\n",
              "      <td>...</td>\n",
              "      <td>...</td>\n",
              "    </tr>\n",
              "    <tr>\n",
              "      <th>toko</th>\n",
              "      <td>0.0</td>\n",
              "      <td>0.0</td>\n",
              "      <td>0.0</td>\n",
              "      <td>0.000000</td>\n",
              "      <td>0.0</td>\n",
              "      <td>0.000000</td>\n",
              "      <td>0.0</td>\n",
              "      <td>0.000000</td>\n",
              "      <td>0.0</td>\n",
              "      <td>0.0</td>\n",
              "      <td>0.000000</td>\n",
              "      <td>0.0</td>\n",
              "      <td>0.0</td>\n",
              "      <td>0.000000</td>\n",
              "      <td>0.00000</td>\n",
              "      <td>0.0</td>\n",
              "      <td>0.0</td>\n",
              "      <td>0.0</td>\n",
              "      <td>0.428052</td>\n",
              "      <td>0.0</td>\n",
              "    </tr>\n",
              "    <tr>\n",
              "      <th>untuk</th>\n",
              "      <td>0.0</td>\n",
              "      <td>0.0</td>\n",
              "      <td>0.0</td>\n",
              "      <td>0.397478</td>\n",
              "      <td>0.0</td>\n",
              "      <td>0.000000</td>\n",
              "      <td>0.0</td>\n",
              "      <td>0.000000</td>\n",
              "      <td>0.0</td>\n",
              "      <td>0.0</td>\n",
              "      <td>0.000000</td>\n",
              "      <td>0.0</td>\n",
              "      <td>0.0</td>\n",
              "      <td>0.000000</td>\n",
              "      <td>0.00000</td>\n",
              "      <td>0.0</td>\n",
              "      <td>0.0</td>\n",
              "      <td>0.0</td>\n",
              "      <td>0.000000</td>\n",
              "      <td>0.0</td>\n",
              "    </tr>\n",
              "    <tr>\n",
              "      <th>wajar</th>\n",
              "      <td>0.0</td>\n",
              "      <td>0.0</td>\n",
              "      <td>0.0</td>\n",
              "      <td>0.000000</td>\n",
              "      <td>0.0</td>\n",
              "      <td>0.000000</td>\n",
              "      <td>0.0</td>\n",
              "      <td>0.000000</td>\n",
              "      <td>0.0</td>\n",
              "      <td>0.0</td>\n",
              "      <td>0.000000</td>\n",
              "      <td>0.0</td>\n",
              "      <td>0.0</td>\n",
              "      <td>0.000000</td>\n",
              "      <td>0.38876</td>\n",
              "      <td>0.0</td>\n",
              "      <td>0.0</td>\n",
              "      <td>0.0</td>\n",
              "      <td>0.000000</td>\n",
              "      <td>0.0</td>\n",
              "    </tr>\n",
              "    <tr>\n",
              "      <th>yaaa</th>\n",
              "      <td>0.0</td>\n",
              "      <td>0.0</td>\n",
              "      <td>0.0</td>\n",
              "      <td>0.000000</td>\n",
              "      <td>0.0</td>\n",
              "      <td>0.310354</td>\n",
              "      <td>0.0</td>\n",
              "      <td>0.000000</td>\n",
              "      <td>0.0</td>\n",
              "      <td>0.0</td>\n",
              "      <td>0.000000</td>\n",
              "      <td>0.0</td>\n",
              "      <td>0.0</td>\n",
              "      <td>0.000000</td>\n",
              "      <td>0.00000</td>\n",
              "      <td>0.0</td>\n",
              "      <td>0.0</td>\n",
              "      <td>0.0</td>\n",
              "      <td>0.000000</td>\n",
              "      <td>0.0</td>\n",
              "    </tr>\n",
              "    <tr>\n",
              "      <th>yah</th>\n",
              "      <td>0.0</td>\n",
              "      <td>0.0</td>\n",
              "      <td>0.0</td>\n",
              "      <td>0.000000</td>\n",
              "      <td>0.0</td>\n",
              "      <td>0.000000</td>\n",
              "      <td>0.0</td>\n",
              "      <td>0.346041</td>\n",
              "      <td>0.0</td>\n",
              "      <td>0.0</td>\n",
              "      <td>0.000000</td>\n",
              "      <td>0.0</td>\n",
              "      <td>0.0</td>\n",
              "      <td>0.000000</td>\n",
              "      <td>0.00000</td>\n",
              "      <td>0.0</td>\n",
              "      <td>0.0</td>\n",
              "      <td>0.0</td>\n",
              "      <td>0.000000</td>\n",
              "      <td>0.0</td>\n",
              "    </tr>\n",
              "  </tbody>\n",
              "</table>\n",
              "<p>75 rows × 20 columns</p>\n",
              "</div>"
            ],
            "text/plain": [
              "                D1   D2   D3        D4   D5  ...  D16  D17  D18       D19  D20\n",
              "ada            0.0  0.0  0.0  0.000000  0.0  ...  0.0  0.0  0.0  0.000000  0.0\n",
              "aku            0.0  0.0  0.0  0.000000  0.0  ...  0.0  0.0  0.0  0.000000  0.0\n",
              "amansampainya  0.0  0.0  0.0  0.000000  0.0  ...  0.0  0.0  0.0  0.000000  0.0\n",
              "bad            0.0  0.0  0.0  0.000000  0.0  ...  0.0  0.0  0.0  0.000000  0.0\n",
              "bagus          0.0  0.0  0.0  0.349389  0.0  ...  0.0  0.0  0.0  0.000000  0.0\n",
              "...            ...  ...  ...       ...  ...  ...  ...  ...  ...       ...  ...\n",
              "toko           0.0  0.0  0.0  0.000000  0.0  ...  0.0  0.0  0.0  0.428052  0.0\n",
              "untuk          0.0  0.0  0.0  0.397478  0.0  ...  0.0  0.0  0.0  0.000000  0.0\n",
              "wajar          0.0  0.0  0.0  0.000000  0.0  ...  0.0  0.0  0.0  0.000000  0.0\n",
              "yaaa           0.0  0.0  0.0  0.000000  0.0  ...  0.0  0.0  0.0  0.000000  0.0\n",
              "yah            0.0  0.0  0.0  0.000000  0.0  ...  0.0  0.0  0.0  0.000000  0.0\n",
              "\n",
              "[75 rows x 20 columns]"
            ]
          },
          "metadata": {},
          "execution_count": 40
        }
      ]
    },
    {
      "cell_type": "markdown",
      "metadata": {
        "id": "1ODlrrrp9H3b"
      },
      "source": [
        "Kata **tidak** memiliki bobot lebih tinggi pada dokumen ke-5 daripada bobot pada dokumen ke-2"
      ]
    },
    {
      "cell_type": "code",
      "metadata": {
        "id": "gYLHzpn-1rMm"
      },
      "source": [
        ""
      ],
      "execution_count": null,
      "outputs": []
    }
  ]
}